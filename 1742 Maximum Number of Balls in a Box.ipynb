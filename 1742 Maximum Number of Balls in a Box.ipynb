{
 "cells": [
  {
   "cell_type": "markdown",
   "id": "bb600f08-7a0a-4453-b623-d8186f34bd75",
   "metadata": {},
   "source": [
    "You are working in a ball factory where you have n balls numbered from lowLimit up to highLimit inclusive (i.e., n == highLimit - lowLimit + 1), and an infinite number of boxes numbered from 1 to infinity.\n",
    "\n",
    "Your job at this factory is to put each ball in the box with a number equal to the sum of digits of the ball's number. For example, the ball number 321 will be put in the box number 3 + 2 + 1 = 6 and the ball number 10 will be put in the box number 1 + 0 = 1.\n",
    "\n",
    "Given two integers lowLimit and highLimit, return the number of balls in the box with the most balls."
   ]
  },
  {
   "cell_type": "markdown",
   "id": "941abbee-31bb-47dc-9dcb-1af491b0b6c9",
   "metadata": {},
   "source": [
    "Example 1:\n",
    "    \n",
    "Input: lowLimit = 1, highLimit = 10\n",
    "Output: 2\n",
    "Explanation:\n",
    "Box Number:  1 2 3 4 5 6 7 8 9 10 11 ...\n",
    "Ball Count:  2 1 1 1 1 1 1 1 1 0  0  ...\n",
    "Box 1 has the most number of balls with 2 balls."
   ]
  },
  {
   "cell_type": "markdown",
   "id": "938523a9-f3ba-469a-b1e1-33b57fcb2f6c",
   "metadata": {},
   "source": [
    "Example 2:\n",
    "\n",
    "Input: lowLimit = 5, highLimit = 15\n",
    "Output: 2\n",
    "Explanation:\n",
    "Box Number:  1 2 3 4 5 6 7 8 9 10 11 ...\n",
    "Ball Count:  1 1 1 1 2 2 1 1 1 0  0  ...\n",
    "Boxes 5 and 6 have the most number of balls with 2 balls in each."
   ]
  },
  {
   "cell_type": "markdown",
   "id": "85f19ba9-747d-4cbc-bbde-87531e863932",
   "metadata": {},
   "source": [
    "Example 3:\n",
    "\n",
    "Input: lowLimit = 19, highLimit = 28\n",
    "Output: 2\n",
    "Explanation:\n",
    "Box Number:  1 2 3 4 5 6 7 8 9 10 11 12 ...\n",
    "Ball Count:  0 1 1 1 1 1 1 1 1 2  0  0  ...\n",
    "Box 10 has the most number of balls with 2 balls."
   ]
  },
  {
   "cell_type": "code",
   "execution_count": 49,
   "id": "aca2853b-8e3e-49f1-9fa2-6356332251e4",
   "metadata": {},
   "outputs": [],
   "source": [
    "class Solution(object):\n",
    "    def countBalls(self, lowLimit, highLimit):\n",
    "        \"\"\"\n",
    "        :type lowLimit: int\n",
    "        :type highLimit: int\n",
    "        :rtype: int\n",
    "        \"\"\"\n",
    "        \n",
    "        boxes = dict() \n",
    "        for ball in range(lowLimit, highLimit+1):\n",
    "            sum_ = self.count(ball)\n",
    "            if sum_ in boxes.keys():\n",
    "                boxes[sum_] = boxes[sum_] + 1\n",
    "            else:\n",
    "                boxes[sum_] = 1\n",
    "        return max(boxes.values())\n",
    "    \n",
    "    def count(self, s):\n",
    "        total = 0\n",
    "        while s >= 1:\n",
    "            total = total + int(s % 10)\n",
    "            s = s / 10\n",
    "        return total"
   ]
  },
  {
   "cell_type": "code",
   "execution_count": 50,
   "id": "8c4a2885-61ad-4c6f-94d9-73972cc6f8e6",
   "metadata": {},
   "outputs": [
    {
     "data": {
      "text/plain": [
       "2"
      ]
     },
     "execution_count": 50,
     "metadata": {},
     "output_type": "execute_result"
    }
   ],
   "source": [
    "ans = Solution()\n",
    "ans.countBalls(19, 28)"
   ]
  },
  {
   "cell_type": "code",
   "execution_count": 48,
   "id": "00c176d2-83ca-4637-8f95-a2cb10df8a73",
   "metadata": {},
   "outputs": [
    {
     "data": {
      "text/plain": [
       "10"
      ]
     },
     "execution_count": 48,
     "metadata": {},
     "output_type": "execute_result"
    }
   ],
   "source": [
    "101 // 10 "
   ]
  },
  {
   "cell_type": "code",
   "execution_count": 44,
   "id": "7eef887d-257a-4391-8e3b-1596b7ff0cb6",
   "metadata": {},
   "outputs": [
    {
     "data": {
      "text/plain": [
       "12.05"
      ]
     },
     "execution_count": 44,
     "metadata": {},
     "output_type": "execute_result"
    }
   ],
   "source": [
    "def count(s):\n",
    "    total = 0\n",
    "    while s >= 1:\n",
    "        total = total + s % 10\n",
    "        s = s / 10\n",
    "    return total\n",
    "count(155)"
   ]
  },
  {
   "cell_type": "code",
   "execution_count": null,
   "id": "0975b26c-05a8-439a-b6fa-91ffc26ffb1a",
   "metadata": {},
   "outputs": [],
   "source": []
  }
 ],
 "metadata": {
  "kernelspec": {
   "display_name": "Python 3 (ipykernel)",
   "language": "python",
   "name": "python3"
  },
  "language_info": {
   "codemirror_mode": {
    "name": "ipython",
    "version": 3
   },
   "file_extension": ".py",
   "mimetype": "text/x-python",
   "name": "python",
   "nbconvert_exporter": "python",
   "pygments_lexer": "ipython3",
   "version": "3.9.13"
  }
 },
 "nbformat": 4,
 "nbformat_minor": 5
}

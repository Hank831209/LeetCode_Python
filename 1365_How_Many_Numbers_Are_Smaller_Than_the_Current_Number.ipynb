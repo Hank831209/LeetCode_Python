{
 "cells": [
  {
   "cell_type": "markdown",
   "id": "9e8d6a83-3e3c-4c5f-a203-cd8144627f06",
   "metadata": {},
   "source": [
    "Given the array nums, for each nums[i] find out how many numbers in the array are smaller than it. That is, for each nums[i] you have to count the number of valid j's such that j != i and nums[j] < nums[i].\n",
    "\n",
    "Return the answer in an array."
   ]
  },
  {
   "cell_type": "markdown",
   "id": "7031c040-4f1f-4fba-97cd-a3882b16f6d0",
   "metadata": {},
   "source": [
    "Example 1:\n",
    "\n",
    "Input: nums = [8,1,2,2,3]\n",
    "Output: [4,0,1,1,3]\n",
    "Explanation: \n",
    "For nums[0]=8 there exist four smaller numbers than it (1, 2, 2 and 3). \n",
    "For nums[1]=1 does not exist any smaller number than it.\n",
    "For nums[2]=2 there exist one smaller number than it (1). \n",
    "For nums[3]=2 there exist one smaller number than it (1). \n",
    "For nums[4]=3 there exist three smaller numbers than it (1, 2 and 2).\n",
    "\n",
    "Example 2:\n",
    "\n",
    "Input: nums = [6,5,4,8]\n",
    "Output: [2,1,0,3]\n",
    "\n",
    "Example 3:\n",
    "\n",
    "Input: nums = [7,7,7,7]\n",
    "Output: [0,0,0,0]"
   ]
  },
  {
   "cell_type": "code",
   "execution_count": 12,
   "id": "b3f84584-dcd7-4fce-8835-4b6b0d79f13d",
   "metadata": {},
   "outputs": [],
   "source": [
    "class Solution1(object):\n",
    "    def smallerNumbersThanCurrent(self, nums):\n",
    "        \"\"\"\n",
    "        :type nums: List[int]\n",
    "        :rtype: List[int]\n",
    "        \"\"\"\n",
    "        ans=[]\n",
    "        for num in nums:\n",
    "            count = 0\n",
    "            for i in nums:\n",
    "                if num > i:\n",
    "                    count = count + 1\n",
    "            ans.append(count)\n",
    "        return ans"
   ]
  },
  {
   "cell_type": "code",
   "execution_count": 13,
   "id": "53686f44-aa84-4416-8a83-cdccc7ffe6b1",
   "metadata": {},
   "outputs": [],
   "source": [
    "class Solution2(object):\n",
    "    def smallerNumbersThanCurrent(self, nums):\n",
    "        \"\"\"\n",
    "        :type nums: List[int]\n",
    "        :rtype: List[int]\n",
    "        \"\"\"\n",
    "        tmp = sorted(nums)\n",
    "        res = []\n",
    "        for i in nums:\n",
    "            res.append(tmp.index(i))  # 重複的會只取小的index\n",
    "        return res"
   ]
  },
  {
   "cell_type": "code",
   "execution_count": 14,
   "id": "b3eb4ea4-6c23-4d16-b4b8-5de941922d4a",
   "metadata": {},
   "outputs": [
    {
     "name": "stdout",
     "output_type": "stream",
     "text": [
      "[4, 0, 1, 1, 3]\n",
      "[2, 1, 0, 3]\n",
      "[0, 0, 0, 0]\n"
     ]
    }
   ],
   "source": [
    "nums1 = [8,1,2,2,3]\n",
    "nums2 = [6,5,4,8]\n",
    "nums3 = [7,7,7,7]\n",
    "s1 = Solution1()\n",
    "print(s1.smallerNumbersThanCurrent(nums1))\n",
    "print(s1.smallerNumbersThanCurrent(nums2))\n",
    "print(s1.smallerNumbersThanCurrent(nums3))"
   ]
  },
  {
   "cell_type": "code",
   "execution_count": 15,
   "id": "cbdd3fa7-c612-4ac2-b21d-649a91e3570b",
   "metadata": {},
   "outputs": [
    {
     "name": "stdout",
     "output_type": "stream",
     "text": [
      "[4, 0, 1, 1, 3]\n",
      "[2, 1, 0, 3]\n",
      "[0, 0, 0, 0]\n"
     ]
    }
   ],
   "source": [
    "nums1 = [8,1,2,2,3]\n",
    "nums2 = [6,5,4,8]\n",
    "nums3 = [7,7,7,7]\n",
    "s1 = Solution2()\n",
    "print(s1.smallerNumbersThanCurrent(nums1))\n",
    "print(s1.smallerNumbersThanCurrent(nums2))\n",
    "print(s1.smallerNumbersThanCurrent(nums3))"
   ]
  },
  {
   "cell_type": "code",
   "execution_count": null,
   "id": "68a6a2f7-1dc8-4460-83e6-e44cb5ada98e",
   "metadata": {},
   "outputs": [],
   "source": []
  }
 ],
 "metadata": {
  "kernelspec": {
   "display_name": "Python 3 (ipykernel)",
   "language": "python",
   "name": "python3"
  },
  "language_info": {
   "codemirror_mode": {
    "name": "ipython",
    "version": 3
   },
   "file_extension": ".py",
   "mimetype": "text/x-python",
   "name": "python",
   "nbconvert_exporter": "python",
   "pygments_lexer": "ipython3",
   "version": "3.9.13"
  }
 },
 "nbformat": 4,
 "nbformat_minor": 5
}

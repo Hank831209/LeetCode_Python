{
 "cells": [
  {
   "cell_type": "markdown",
   "id": "4de99da7-b869-44be-9816-53f73b8b36ea",
   "metadata": {},
   "source": [
    "1093. Statistics from a Large Sample"
   ]
  },
  {
   "cell_type": "markdown",
   "id": "5d03180e-0272-4d3c-925a-cd8106f75a09",
   "metadata": {},
   "source": [
    "You are given a large sample of integers in the range [0, 255]. Since the sample is so large, it is represented by an array count where count[k] is the number of times that k appears in the sample.\n",
    "\n",
    "Calculate the following statistics:\n",
    "\n",
    "minimum: The minimum element in the sample.\n",
    "maximum: The maximum element in the sample.\n",
    "mean: The average of the sample, calculated as the total sum of all elements divided by the total number of elements.\n",
    "median:\n",
    "If the sample has an odd number of elements, then the median is the middle element once the sample is sorted.\n",
    "If the sample has an even number of elements, then the median is the average of the two middle elements once the sample is sorted.\n",
    "mode: The number that appears the most in the sample. It is guaranteed to be unique.\n",
    "Return the statistics of the sample as an array of floating-point numbers [minimum, maximum, mean, median, mode]. Answers within 10-5 of the actual answer will be accepted."
   ]
  },
  {
   "cell_type": "markdown",
   "id": "77eb10cb-5a81-42be-b5a4-427fa4307fcb",
   "metadata": {},
   "source": [
    "Example 1:\n",
    "\n",
    "Input: count = [0,1,3,4,0,0,0,0,0,0,0,0,0,0,0,0,0,0,0,0,0,0,0,0,0,0,0,0,0,0,0,0,0,0,0,0,0,0,0,0,0,0,0,0,0,0,0,0,0,0,0,0,0,0,0,0,0,0,0,0,0,0,0,0,0,0,0,0,0,0,0,0,0,0,0,0,0,0,0,0,0,0,0,0,0,0,0,0,0,0,0,0,0,0,0,0,0,0,0,0,0,0,0,0,0,0,0,0,0,0,0,0,0,0,0,0,0,0,0,0,0,0,0,0,0,0,0,0,0,0,0,0,0,0,0,0,0,0,0,0,0,0,0,0,0,0,0,0,0,0,0,0,0,0,0,0,0,0,0,0,0,0,0,0,0,0,0,0,0,0,0,0,0,0,0,0,0,0,0,0,0,0,0,0,0,0,0,0,0,0,0,0,0,0,0,0,0,0,0,0,0,0,0,0,0,0,0,0,0,0,0,0,0,0,0,0,0,0,0,0,0,0,0,0,0,0,0,0,0,0,0,0,0,0,0,0,0,0,0,0,0,0,0,0,0,0,0,0,0,0,0,0,0,0,0,0]\n",
    "Output: [1.00000,3.00000,2.37500,2.50000,3.00000]\n",
    "Explanation: The sample represented by count is [1,2,2,2,3,3,3,3].\n",
    "The minimum and maximum are 1 and 3 respectively.\n",
    "The mean is (1+2+2+2+3+3+3+3) / 8 = 19 / 8 = 2.375.\n",
    "Since the size of the sample is even, the median is the average of the two middle elements 2 and 3, which is 2.5.\n",
    "The mode is 3 as it appears the most in the sample."
   ]
  },
  {
   "cell_type": "markdown",
   "id": "ad2c377b-7e92-4154-9aed-3dd28b0f443a",
   "metadata": {},
   "source": [
    "Example 2:\n",
    "\n",
    "Input: count = [0,4,3,2,2,0,0,0,0,0,0,0,0,0,0,0,0,0,0,0,0,0,0,0,0,0,0,0,0,0,0,0,0,0,0,0,0,0,0,0,0,0,0,0,0,0,0,0,0,0,0,0,0,0,0,0,0,0,0,0,0,0,0,0,0,0,0,0,0,0,0,0,0,0,0,0,0,0,0,0,0,0,0,0,0,0,0,0,0,0,0,0,0,0,0,0,0,0,0,0,0,0,0,0,0,0,0,0,0,0,0,0,0,0,0,0,0,0,0,0,0,0,0,0,0,0,0,0,0,0,0,0,0,0,0,0,0,0,0,0,0,0,0,0,0,0,0,0,0,0,0,0,0,0,0,0,0,0,0,0,0,0,0,0,0,0,0,0,0,0,0,0,0,0,0,0,0,0,0,0,0,0,0,0,0,0,0,0,0,0,0,0,0,0,0,0,0,0,0,0,0,0,0,0,0,0,0,0,0,0,0,0,0,0,0,0,0,0,0,0,0,0,0,0,0,0,0,0,0,0,0,0,0,0,0,0,0,0,0,0,0,0,0,0,0,0,0,0,0,0,0,0,0,0,0,0]\n",
    "Output: [1.00000,4.00000,2.18182,2.00000,1.00000]\n",
    "Explanation: The sample represented by count is [1,1,1,1,2,2,2,3,3,4,4].\n",
    "The minimum and maximum are 1 and 4 respectively.\n",
    "The mean is (1+1+1+1+2+2+2+3+3+4+4) / 11 = 24 / 11 = 2.18181818... (for display purposes, the output shows the rounded number 2.18182).\n",
    "Since the size of the sample is odd, the median is the middle element 2.\n",
    "The mode is 1 as it appears the most in the sample."
   ]
  },
  {
   "cell_type": "code",
   "execution_count": null,
   "id": "71c7263e-bbe9-4e9a-9720-d1ae6214a73f",
   "metadata": {},
   "outputs": [],
   "source": [
    "Output\n",
    "[0.00000,206.00000,29.85714,3.00000,0.00000]\n",
    "Expected\n",
    "[0.00000,206.00000,29.85714,0.00000,0.00000]"
   ]
  },
  {
   "cell_type": "code",
   "execution_count": 6,
   "id": "e10904b8-fd3e-410c-a450-4b0464ba3d16",
   "metadata": {
    "tags": []
   },
   "outputs": [],
   "source": [
    "c = [5,0,0,1,0,0,0,0,0,0,0,0,0,0,0,0,0,0,0,0,0,0,0,0,0,0,0,0,0,0,0,0,0,0,0,0,0,0,0,0,0,0,0,0,0,0,0,0,0,0,0,0,0,0,0,0,0,0,0,0,0,0,0,0,0,0,0,0,0,0,0,0,0,0,0,0,0,0,0,0,0,0,0,0,0,0,0,0,0,0,0,0,0,0,0,0,0,0,0,0,0,0,0,0,0,0,0,0,0,0,0,0,0,0,0,0,0,0,0,0,0,0,0,0,0,0,0,0,0,0,0,0,0,0,0,0,0,0,0,0,0,0,0,0,0,0,0,0,0,0,0,0,0,0,0,0,0,0,0,0,0,0,0,0,0,0,0,0,0,0,0,0,0,0,0,0,0,0,0,0,0,0,0,0,0,0,0,0,0,0,0,0,0,0,0,0,0,0,0,0,0,0,0,0,0,0,1,0,0,0,0,0,0,0,0,0,0,0,0,0,0,0,0,0,0,0,0,0,0,0,0,0,0,0,0,0,0,0,0,0,0,0,0,0,0,0,0,0,0,0,0,0,0,0,0,0]"
   ]
  },
  {
   "cell_type": "code",
   "execution_count": 3,
   "id": "24f1d6b7-f23f-4205-ae4e-f8ca12a4e01e",
   "metadata": {},
   "outputs": [],
   "source": [
    "class Solution:\n",
    "    def sampleStats(self, count) -> list:\n",
    "        minimum = 255\n",
    "        maximum = 0\n",
    "        mode = 0\n",
    "        average = 0\n",
    "        cnt = 0\n",
    "        median = None\n",
    "\n",
    "        for i in range(len(count)):\n",
    "            if count[i] != 0:\n",
    "                minimum = min(minimum, i)\n",
    "                maximum = max(maximum, i)\n",
    "            if count[i] > count[mode]:\n",
    "                mode = i\n",
    "\n",
    "            average += i * count[i]\n",
    "            cnt += count[i]  # 總數\n",
    "\n",
    "        average = average * 1.0 / cnt\n",
    "        mid = cnt // 2  # 3 // 2 = 1\n",
    "        # {1: 1, 2: 3, 3: 4}\n",
    "        pos = 0\n",
    "        for i in range(len(count)):\n",
    "            pos += count[i]\n",
    "            if pos > mid:\n",
    "                median = i\n",
    "                break\n",
    "                \n",
    "            if cnt % 2 == 1:\n",
    "                if pos > mid:\n",
    "                    median = i\n",
    "                    break\n",
    "            else:\n",
    "                if pos == mid:\n",
    "                    j = i + 1\n",
    "                    while count[j] == 0:\n",
    "                        j = j + 1\n",
    "                    median = (i + j) / 2.0\n",
    "                    break\n",
    "                elif pos > mid:\n",
    "                    median = i\n",
    "                    break\n",
    "        return [minimum * 1.0, maximum * 1.0, average * 1.0, median * 1.0, mode * 1.0]"
   ]
  },
  {
   "cell_type": "code",
   "execution_count": 4,
   "id": "2d9df754-3282-449b-98a1-342a023031cf",
   "metadata": {},
   "outputs": [
    {
     "data": {
      "text/plain": [
       "[1.0, 3.0, 2.2222222222222223, 3.0, 3.0]"
      ]
     },
     "execution_count": 4,
     "metadata": {},
     "output_type": "execute_result"
    }
   ],
   "source": [
    "import numpy as np\n",
    "c = np.zeros([256])\n",
    "c[1] = 3; c[2] = 1; c[3] = 5\n",
    "c = c.tolist()\n",
    "a = Solution()\n",
    "a.sampleStats(c)"
   ]
  },
  {
   "cell_type": "code",
   "execution_count": 5,
   "id": "56369ec2-cd2a-430d-982f-12e8fbd2e9d6",
   "metadata": {},
   "outputs": [],
   "source": [
    "class Solution(object):\n",
    "    def sampleStats(self, count):\n",
    "        \"\"\"\n",
    "        :type count: List[int]\n",
    "        :rtype: List[float]\n",
    "        \"\"\"\n",
    "        ad = {idx: n for idx, n in enumerate(count) if n != 0}\n",
    "        vl = list(ad.values())  # [1, 3, 4]\n",
    "        kl = list(ad.keys())    # [1, 2, 3]\n",
    "        minimum = kl[0]\n",
    "        maximum = kl[-1]\n",
    "        mean = 0 # 平均\n",
    "        median = None # 中位數\n",
    "        count_ = 0\n",
    "        for i in range(len(kl)):\n",
    "            mean = mean + kl[i] * ad[kl[i]]\n",
    "            count_ = count_ + ad[kl[i]]\n",
    "            if ad[kl[i]] == max(vl):\n",
    "                mode = kl[i]  # 眾數\n",
    "            if median == None:\n",
    "                median = self.get_med(count, count_, i, kl)\n",
    "\n",
    "        mean = mean / count_\n",
    "        return [minimum, maximum, mean, median, mode]\n",
    "    def get_med(self, count, count_, i, kl):\n",
    "        if sum(count) % 2 != 0:\n",
    "            idx = sum(count) // 2\n",
    "            if count_ >= idx:\n",
    "                return kl[i]\n",
    "        else:\n",
    "            idx1 = sum(count)/2 - 1  # 3, 4\n",
    "            if count_ >= idx1+1:\n",
    "                if count_ == idx1+1:\n",
    "                    return (kl[i] + kl[i+1])/2\n",
    "                else:\n",
    "                    print(kl[i])\n",
    "                    return kl[i]"
   ]
  },
  {
   "cell_type": "code",
   "execution_count": 6,
   "id": "bfcfd0a3-c17b-4c0a-a304-4208de7a412f",
   "metadata": {},
   "outputs": [
    {
     "data": {
      "text/plain": [
       "[1, 4, 2.1818181818181817, 2, 1]"
      ]
     },
     "execution_count": 6,
     "metadata": {},
     "output_type": "execute_result"
    }
   ],
   "source": [
    "c = [0,4,3,2,2,0,0,0,0,0,0,0,0,0,0,0,0,0,0,0,0,0,0,0,0,0,0,0,0,0,0,0,0,0,0,0,0,0,0,0,0,0,0,0,0,0,0,0,0,0,0,0,0,0,0,0,0,0,0,0,0,0,0,0,0,0,0,0,0,0,0,0,0,0,0,0,0,0,0,0,0,0,0,0,0,0,0,0,0,0,0,0,0,0,0,0,0,0,0,0,0,0,0,0,0,0,0,0,0,0,0,0,0,0,0,0,0,0,0,0,0,0,0,0,0,0,0,0,0,0,0,0,0,0,0,0,0,0,0,0,0,0,0,0,0,0,0,0,0,0,0,0,0,0,0,0,0,0,0,0,0,0,0,0,0,0,0,0,0,0,0,0,0,0,0,0,0,0,0,0,0,0,0,0,0,0,0,0,0,0,0,0,0,0,0,0,0,0,0,0,0,0,0,0,0,0,0,0,0,0,0,0,0,0,0,0,0,0,0,0,0,0,0,0,0,0,0,0,0,0,0,0,0,0,0,0,0,0,0,0,0,0,0,0,0,0,0,0,0,0,0,0,0,0,0,0]\n",
    "a = Solution()\n",
    "a.sampleStats(c)"
   ]
  },
  {
   "cell_type": "code",
   "execution_count": null,
   "id": "ee77a4f1-eddf-4fa3-ab69-6808d1848f96",
   "metadata": {},
   "outputs": [],
   "source": []
  }
 ],
 "metadata": {
  "kernelspec": {
   "display_name": "Python 3 (ipykernel)",
   "language": "python",
   "name": "python3"
  },
  "language_info": {
   "codemirror_mode": {
    "name": "ipython",
    "version": 3
   },
   "file_extension": ".py",
   "mimetype": "text/x-python",
   "name": "python",
   "nbconvert_exporter": "python",
   "pygments_lexer": "ipython3",
   "version": "3.9.13"
  }
 },
 "nbformat": 4,
 "nbformat_minor": 5
}

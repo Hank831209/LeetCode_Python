{
 "cells": [
  {
   "cell_type": "markdown",
   "id": "8e675456-c8e2-4685-9a7c-70ac9157bcd5",
   "metadata": {},
   "source": [
    "Write a function to find the longest common prefix string amongst an array of strings.\n",
    "\n",
    "If there is no common prefix, return an empty string \"\"."
   ]
  },
  {
   "cell_type": "markdown",
   "id": "020ee5a2-4f00-46e6-9727-53871e2e514f",
   "metadata": {},
   "source": [
    "Example 1:\n",
    "\n",
    "Input: strs = [\"flower\",\"flow\",\"flight\"]\n",
    "Output: \"fl\""
   ]
  },
  {
   "cell_type": "markdown",
   "id": "66baa31d-dda0-4695-9a16-035cb2688dfa",
   "metadata": {},
   "source": [
    "Example 2:\n",
    "\n",
    "Input: strs = [\"dog\",\"racecar\",\"car\"]\n",
    "Output: \"\"\n",
    "Explanation: There is no common prefix among the input strings."
   ]
  },
  {
   "cell_type": "code",
   "execution_count": null,
   "id": "ced4c629-41ff-45d1-9315-173c9fe1b7e4",
   "metadata": {},
   "outputs": [],
   "source": [
    "class Solution(object):\n",
    "    def longestCommonPrefix(self, strs):\n",
    "        \"\"\"\n",
    "        :type strs: List[str]\n",
    "        :rtype: str\n",
    "        \"\"\"\n",
    "        ans = \"\"\n",
    "        idx = 0\n",
    "        k = len(strs) - 1 \n",
    "        while True:\n",
    "            for i in strs:\n",
    "                if i[idx]\n",
    "            idx = idx + 1\n",
    "                "
   ]
  },
  {
   "cell_type": "code",
   "execution_count": null,
   "id": "03be6a1e-e949-47f5-a757-94c7811adcfb",
   "metadata": {},
   "outputs": [],
   "source": [
    "class Solution(object):\n",
    "    def longestCommonPrefix(self, strs):\n",
    "        \"\"\"\n",
    "        :type strs: List[str]\n",
    "        :rtype: str\n",
    "        \"\"\"\n",
    "        ans = \"\"\n",
    "        idx = 0\n",
    "        k = len(strs) - 1 \n",
    "        while True:\n",
    "            for i in strs:\n",
    "                if i[idx]\n",
    "            idx = idx + 1\n",
    "                "
   ]
  },
  {
   "cell_type": "code",
   "execution_count": null,
   "id": "d4135926-3bc0-4a4f-9c65-06740c668978",
   "metadata": {},
   "outputs": [],
   "source": [
    "if not strs:  # 空list的話回傳空字串\n",
    "            return \"\"\n",
    "        prefix = strs[0]\n",
    "        count = len(strs)  # 確保進入迴圈\n",
    "        while count != len(strs) - 1:\n",
    "            count = 0\n",
    "            for j in range(1, len(strs)):  # 要比對的字串index\n",
    "                if len(prefix) > len(strs[j]):\n",
    "                    prefix = prefix[0:len(strs[j])]\n",
    "                    break\n",
    "                if prefix != strs[j][0:len(prefix)]:  # 比對失敗 prefix刪一個字\n",
    "                    prefix = prefix[0:len(prefix) - 1]\n",
    "                    break\n",
    "                if prefix == strs[j][0:len(prefix)]:\n",
    "                    count = count + 1\n",
    "        return prefix"
   ]
  },
  {
   "cell_type": "code",
   "execution_count": 1,
   "id": "920a0744-b411-4c50-a258-aefe1fe849e7",
   "metadata": {},
   "outputs": [
    {
     "data": {
      "text/plain": [
       "3"
      ]
     },
     "execution_count": 1,
     "metadata": {},
     "output_type": "execute_result"
    }
   ],
   "source": [
    "len(\"123\")"
   ]
  },
  {
   "cell_type": "code",
   "execution_count": 2,
   "id": "aebe229d-c9cc-4f67-a702-682f215d80a2",
   "metadata": {},
   "outputs": [
    {
     "data": {
      "text/plain": [
       "'3'"
      ]
     },
     "execution_count": 2,
     "metadata": {},
     "output_type": "execute_result"
    }
   ],
   "source": [
    "\"123\"[2]"
   ]
  },
  {
   "cell_type": "code",
   "execution_count": null,
   "id": "4076c292-0686-4d90-9dd2-2e8e571fc226",
   "metadata": {},
   "outputs": [],
   "source": []
  }
 ],
 "metadata": {
  "kernelspec": {
   "display_name": "Python 3 (ipykernel)",
   "language": "python",
   "name": "python3"
  },
  "language_info": {
   "codemirror_mode": {
    "name": "ipython",
    "version": 3
   },
   "file_extension": ".py",
   "mimetype": "text/x-python",
   "name": "python",
   "nbconvert_exporter": "python",
   "pygments_lexer": "ipython3",
   "version": "3.9.13"
  }
 },
 "nbformat": 4,
 "nbformat_minor": 5
}

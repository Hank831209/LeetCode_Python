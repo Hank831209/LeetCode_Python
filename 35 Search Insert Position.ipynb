{
 "cells": [
  {
   "cell_type": "markdown",
   "id": "442b3e45-d39f-4d6f-b4c5-2ca12428c053",
   "metadata": {},
   "source": [
    "Given a sorted array of distinct integers and a target value, return the index if the target is found. If not, return the index where it would be if it were inserted in order.\n",
    "\n",
    "You must write an algorithm with O(log n) runtime complexity."
   ]
  },
  {
   "cell_type": "markdown",
   "id": "39ec8b5d-967f-4ef5-a76b-bedb5d52efb4",
   "metadata": {},
   "source": [
    "Example 1:\n",
    "\n",
    "Input: nums = [1,3,5,6], target = 5\n",
    "Output: 2"
   ]
  },
  {
   "cell_type": "code",
   "execution_count": null,
   "id": "818a8891-90a5-4a90-b4c7-5f4b92de46c1",
   "metadata": {},
   "outputs": [],
   "source": [
    "left = 0 right = 3 mid = 1\n",
    "mid = 1 left = 2 right = 3\n",
    "mid = 2 V"
   ]
  },
  {
   "cell_type": "markdown",
   "id": "850bf477-40e8-4ce3-9975-d0464392bddd",
   "metadata": {},
   "source": [
    "Example 2:\n",
    "\n",
    "Input: nums = [1,3,5,6], target = 2\n",
    "Output: 1"
   ]
  },
  {
   "cell_type": "code",
   "execution_count": null,
   "id": "d027284a-4586-4f9b-81fd-f9874c65ffcf",
   "metadata": {},
   "outputs": [],
   "source": [
    "left = 0 right = 3 mid = 1\n",
    "mid = 1 right = 0 left = 0\n",
    "mid = 0 left = 1 right = 0 break"
   ]
  },
  {
   "cell_type": "markdown",
   "id": "6eb2e6b9-b9b1-41b2-9289-d277e0e38d5c",
   "metadata": {},
   "source": [
    "Example 3:\n",
    "\n",
    "Input: nums = [1,3,5,6], target = 7\n",
    "Output: 4"
   ]
  },
  {
   "cell_type": "code",
   "execution_count": null,
   "id": "03d74d64-9214-408e-8b3e-f679a4142ea2",
   "metadata": {},
   "outputs": [],
   "source": [
    "left = 0 right = 3 mid = 1\n",
    "mid = 1 left = 2 right = 3\n",
    "mid = 2 left = 3 right = 3 \n",
    "mid = 3 left = 4 right = 3 break\n",
    "mid = 3 right = 2 left = 3 break"
   ]
  },
  {
   "cell_type": "code",
   "execution_count": 1,
   "id": "f9e5878e-5c8b-4347-b86d-62ca1cacc305",
   "metadata": {},
   "outputs": [],
   "source": [
    "class Solution(object):\n",
    "    def searchInsert(self, nums, target):\n",
    "        \"\"\"\n",
    "        :type nums: List[int]\n",
    "        :type target: int\n",
    "        :rtype: int\n",
    "        \"\"\"\n",
    "        left = 0\n",
    "        right = len(nums) - 1\n",
    "        while right >= left:\n",
    "            mid = (right + left) // 2\n",
    "            if nums[mid] == target:\n",
    "                return mid\n",
    "            elif nums[mid] > target:\n",
    "                right = mid - 1\n",
    "            elif nums[mid] < target:\n",
    "                left = mid + 1\n",
    "        return left"
   ]
  },
  {
   "cell_type": "code",
   "execution_count": 4,
   "id": "d948445b-4375-4fe1-923a-af01b04ef1c8",
   "metadata": {},
   "outputs": [
    {
     "data": {
      "text/plain": [
       "3"
      ]
     },
     "execution_count": 4,
     "metadata": {},
     "output_type": "execute_result"
    }
   ],
   "source": [
    "nums = [1,3,5,6]\n",
    "a = Solution()\n",
    "a.searchInsert(nums, 5.5)"
   ]
  },
  {
   "cell_type": "code",
   "execution_count": 8,
   "id": "b633c5a4-af0d-4baa-a978-8e6862686e64",
   "metadata": {},
   "outputs": [],
   "source": [
    "class Solution(object):\n",
    "    def bs(self, nums, left, right, target):\n",
    "        mid = (left + right) // 2\n",
    "        if right < left:\n",
    "            return -1\n",
    "        elif nums[mid] == target:\n",
    "            return mid\n",
    "        elif nums[mid] > target:\n",
    "            right = mid - 1\n",
    "            return self.bs(nums, left, right, target)\n",
    "        elif nums[mid] < target:\n",
    "            left = mid + 1\n",
    "            return self.bs(nums, left, right, target)"
   ]
  },
  {
   "cell_type": "code",
   "execution_count": 10,
   "id": "f1fb7aa7-7c00-4c6a-9560-3d3bb6958a01",
   "metadata": {},
   "outputs": [
    {
     "data": {
      "text/plain": [
       "1"
      ]
     },
     "execution_count": 10,
     "metadata": {},
     "output_type": "execute_result"
    }
   ],
   "source": [
    "nums = [1, 3, 5, 6]\n",
    "a = Solution()\n",
    "a.bs(nums, 0, len(nums) - 1, 3)"
   ]
  },
  {
   "cell_type": "code",
   "execution_count": null,
   "id": "1e1fb622-7db4-4981-9449-2114f86829b9",
   "metadata": {},
   "outputs": [],
   "source": []
  }
 ],
 "metadata": {
  "kernelspec": {
   "display_name": "Python 3 (ipykernel)",
   "language": "python",
   "name": "python3"
  },
  "language_info": {
   "codemirror_mode": {
    "name": "ipython",
    "version": 3
   },
   "file_extension": ".py",
   "mimetype": "text/x-python",
   "name": "python",
   "nbconvert_exporter": "python",
   "pygments_lexer": "ipython3",
   "version": "3.9.13"
  }
 },
 "nbformat": 4,
 "nbformat_minor": 5
}

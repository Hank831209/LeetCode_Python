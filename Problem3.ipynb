{
 "cells": [
  {
   "cell_type": "code",
   "execution_count": 1,
   "id": "3bf047d1-550a-4296-973b-75b8cf627a3b",
   "metadata": {},
   "outputs": [],
   "source": [
    "graph = {'A': ['B', 'C'],\n",
    "         'B': ['A', 'C', 'D'],\n",
    "         'C': ['A', 'B', 'D', 'E'],\n",
    "         'D': ['B', 'C', 'E', 'F'],\n",
    "         'E': ['C', 'D'],\n",
    "         'F': ['D']\n",
    "        }"
   ]
  },
  {
   "cell_type": "code",
   "execution_count": 2,
   "id": "c2822ad1-e822-44c5-8704-744d4249193b",
   "metadata": {},
   "outputs": [],
   "source": [
    "s = 'A'\n",
    "def BFS(graph, s):\n",
    "    ans = list()\n",
    "    ans.append(s)\n",
    "    seen = set()\n",
    "    seen.add(s)\n",
    "    queue = list()\n",
    "    queue.append(s)\n",
    "    while len(queue) != 0:  # 隊列沒執行完全\n",
    "        v = queue.pop(0)    # 取出第一個\n",
    "        nodes = graph[v]    # 找鄰居\n",
    "        for w in nodes:\n",
    "            if w not in seen:    # 尚未被拿出來\n",
    "                seen.add(w)      # 已取出做紀錄\n",
    "                queue.append(w)  # 放進隊列等待取出\n",
    "                ans.append(w)    # 最後答案 \n",
    "    return ans"
   ]
  },
  {
   "cell_type": "code",
   "execution_count": 3,
   "id": "e8f36c41-05c7-42d1-a5db-4f4716cac467",
   "metadata": {},
   "outputs": [
    {
     "data": {
      "text/plain": [
       "['E', 'C', 'D', 'A', 'B', 'F']"
      ]
     },
     "execution_count": 3,
     "metadata": {},
     "output_type": "execute_result"
    }
   ],
   "source": [
    "s = 'E'\n",
    "BFS(graph, s)"
   ]
  },
  {
   "cell_type": "code",
   "execution_count": 7,
   "id": "74da1550-34e4-4e35-a181-590a09b34a3a",
   "metadata": {},
   "outputs": [],
   "source": [
    "import cv2\n",
    "import matplotlib.pyplot as plt"
   ]
  },
  {
   "cell_type": "code",
   "execution_count": 10,
   "id": "703232cd-5fe5-4ec6-89e6-82334412d1a9",
   "metadata": {},
   "outputs": [
    {
     "data": {
      "text/plain": [
       "<matplotlib.image.AxesImage at 0x255f7b0d730>"
      ]
     },
     "execution_count": 10,
     "metadata": {},
     "output_type": "execute_result"
    },
    {
     "data": {
      "image/png": "[encoded data removed]",
      "text/plain": [
       "<Figure size 640x480 with 2 Axes>"
      ]
     },
     "metadata": {},
     "output_type": "display_data"
    }
   ],
   "source": [
    "path1 = r\"D:\\python\\Problem\\Problem3\\test1-gray.bmp\"\n",
    "path2 = r\"D:\\python\\Problem\\Problem3\\test2-gray.bmp\"\n",
    "img1 = cv2.imread(path1, 0)\n",
    "img2 = cv2.imread(path2, 0)\n",
    "plt.subplot(121)\n",
    "plt.imshow(img1, cmap=\"gray\")\n",
    "plt.subplot(122)\n",
    "plt.imshow(img2, cmap=\"gray\")"
   ]
  },
  {
   "cell_type": "code",
   "execution_count": 133,
   "id": "e8f76eaf-7d18-4313-b2b3-ca7f1c0f9009",
   "metadata": {},
   "outputs": [],
   "source": [
    "def get_neibor(img, i1, i2):\n",
    "    w = img.shape[0]\n",
    "    h = img.shape[1]\n",
    "    neibor = []\n",
    "    if 0 <= i1 + 1 and i1 + 1 < w:\n",
    "        neibor.append((i1 + 1, i2))\n",
    "    if 0 <= i1 - 1 and i1 - 1 < w:\n",
    "        neibor.append((i1 - 1, i2))\n",
    "    if 0 <= i2 + 1 and i2 + 1 < h:\n",
    "        neibor.append((i1, i2 + 1))\n",
    "    if 0 <= i2 - 1 and i2 - 1 < h:\n",
    "        neibor.append((i1, i2 - 1))\n",
    "    return neibor\n",
    "\n",
    "def get_obj(img, un_seen, count, thresh):\n",
    "    # s: 起點\n",
    "    node = un_seen.pop()\n",
    "    if img[node[0], node[1]] == 0:  # 0 則已看過並返回\n",
    "        return un_seen, count\n",
    "    count = count + 1               # 1, 則找到一個物件\n",
    "    queen = []\n",
    "    queen.append(node)  # 加入序列開始搜索\n",
    "    while len(queen) != 0:  # 已搜索完成: len(queen)==0\n",
    "        queen_0 = queen.pop(0)    # 拿出序列中第一個座標進行搜索\n",
    "        nodes = get_neibor(img, queen_0[0], queen_0[1])  # 找到該點座標的鄰居\n",
    "        for node in nodes:\n",
    "            if node in un_seen:  # 先前沒看過\n",
    "                un_seen.remove(node)  # 從待看清單移除\n",
    "                if img[node[0], node[1]] == thresh:  # 先前沒看過且數值為1\n",
    "                    queen.append(node)          # 同顏色(1)要加入序列繼續執行\n",
    "    return un_seen, count\n",
    "\n",
    "def ans(img, thresh):\n",
    "    w = img.shape[0]\n",
    "    h = img.shape[1]\n",
    "    un_seen = {(i, j) for i in range(w) for j in range(h)}\n",
    "    count = 0\n",
    "    while len(un_seen) != 0:\n",
    "        un_seen, count = get_obj(img, un_seen, count, thresh)\n",
    "    return count"
   ]
  },
  {
   "cell_type": "code",
   "execution_count": 130,
   "id": "899b2d8c-8c0f-4136-9f61-3e6086d315f1",
   "metadata": {
    "tags": []
   },
   "outputs": [
    {
     "data": {
      "text/plain": [
       "7"
      ]
     },
     "execution_count": 130,
     "metadata": {},
     "output_type": "execute_result"
    }
   ],
   "source": [
    "ans(img1, 255)"
   ]
  },
  {
   "cell_type": "code",
   "execution_count": 134,
   "id": "b9f86f8b-7a97-473d-b654-0daa929da82c",
   "metadata": {},
   "outputs": [
    {
     "data": {
      "text/plain": [
       "[(2, 0), (0, 0), (1, 1)]"
      ]
     },
     "execution_count": 134,
     "metadata": {},
     "output_type": "execute_result"
    }
   ],
   "source": [
    "get_neibor(img, 1, 0)"
   ]
  },
  {
   "cell_type": "code",
   "execution_count": 132,
   "id": "907135de-51a4-4bfb-9b15-7e8b55012827",
   "metadata": {},
   "outputs": [
    {
     "data": {
      "text/plain": [
       "False"
      ]
     },
     "execution_count": 132,
     "metadata": {},
     "output_type": "execute_result"
    }
   ],
   "source": [
    "a = 3\n",
    "b = 2\n",
    "0 <= a < b"
   ]
  },
  {
   "cell_type": "code",
   "execution_count": 53,
   "id": "ad006d4f-5ae7-41a3-95ea-cec23d90e9be",
   "metadata": {},
   "outputs": [],
   "source": [
    "seen = set()\n",
    "w = 5\n",
    "h = 5\n",
    "seen = {(i, j) for i in range(w) for j in range(h)}"
   ]
  },
  {
   "cell_type": "code",
   "execution_count": 59,
   "id": "dc16148f-4084-4202-b1ed-b3e74e6a2e7e",
   "metadata": {
    "tags": []
   },
   "outputs": [
    {
     "data": {
      "text/plain": [
       "[(3, 2), (1, 2), (2, 3), (2, 1)]"
      ]
     },
     "execution_count": 59,
     "metadata": {},
     "output_type": "execute_result"
    }
   ],
   "source": [
    "get_neibor(img1, 2, 2)"
   ]
  },
  {
   "cell_type": "code",
   "execution_count": 77,
   "id": "f7bde37e-0ab2-4a1d-9472-597f7974db71",
   "metadata": {},
   "outputs": [],
   "source": [
    "h = {\"a\", \"b\", \"c\"}"
   ]
  },
  {
   "cell_type": "code",
   "execution_count": 78,
   "id": "183d3aeb-ce9f-4a95-8b37-ebb0ad4cddb4",
   "metadata": {},
   "outputs": [
    {
     "data": {
      "text/plain": [
       "('b', {'a', 'c'})"
      ]
     },
     "execution_count": 78,
     "metadata": {},
     "output_type": "execute_result"
    }
   ],
   "source": [
    "h.pop(), h"
   ]
  },
  {
   "cell_type": "code",
   "execution_count": 24,
   "id": "377fe460-68f6-4289-88a0-ed49b3054342",
   "metadata": {},
   "outputs": [],
   "source": [
    "h.remove('c')"
   ]
  },
  {
   "cell_type": "code",
   "execution_count": 25,
   "id": "7c876598-099d-4021-9f2b-30189da95743",
   "metadata": {},
   "outputs": [
    {
     "data": {
      "text/plain": [
       "{'a'}"
      ]
     },
     "execution_count": 25,
     "metadata": {},
     "output_type": "execute_result"
    }
   ],
   "source": [
    "h"
   ]
  },
  {
   "cell_type": "code",
   "execution_count": 30,
   "id": "f5a9f94e-5f18-49ce-b09b-3e50973ae2c9",
   "metadata": {
    "tags": []
   },
   "outputs": [
    {
     "data": {
      "text/plain": [
       "(100, 100)"
      ]
     },
     "execution_count": 30,
     "metadata": {},
     "output_type": "execute_result"
    }
   ],
   "source": [
    "img1.shape"
   ]
  },
  {
   "cell_type": "code",
   "execution_count": null,
   "id": "54f987ec-e343-4b62-9a39-e70987535868",
   "metadata": {},
   "outputs": [],
   "source": []
  }
 ],
 "metadata": {
  "kernelspec": {
   "display_name": "Python 3 (ipykernel)",
   "language": "python",
   "name": "python3"
  },
  "language_info": {
   "codemirror_mode": {
    "name": "ipython",
    "version": 3
   },
   "file_extension": ".py",
   "mimetype": "text/x-python",
   "name": "python",
   "nbconvert_exporter": "python",
   "pygments_lexer": "ipython3",
   "version": "3.9.13"
  }
 },
 "nbformat": 4,
 "nbformat_minor": 5
}

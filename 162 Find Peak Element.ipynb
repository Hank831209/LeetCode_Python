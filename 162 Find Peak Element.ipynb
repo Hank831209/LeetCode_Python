{
 "cells": [
  {
   "cell_type": "markdown",
   "id": "a2f8c63d-dfcb-49c6-98dd-1ebd0e1f7598",
   "metadata": {},
   "source": [
    "A peak element is an element that is strictly greater than its neighbors.\n",
    "\n",
    "Given a 0-indexed integer array nums, find a peak element, and return its index. If the array contains multiple peaks, return the index to any of the peaks.\n",
    "\n",
    "You may imagine that nums[-1] = nums[n] = -∞. In other words, an element is always considered to be strictly greater than a neighbor that is outside the array.\n",
    "\n",
    "You must write an algorithm that runs in O(log n) time."
   ]
  },
  {
   "cell_type": "markdown",
   "id": "e4531125-cb39-4f65-afd1-398dfe7354f8",
   "metadata": {},
   "source": [
    "Example 1:\n",
    "\n",
    "Input: nums = [1,2,3,1]\n",
    "Output: 2\n",
    "Explanation: 3 is a peak element and your function should return the index number 2."
   ]
  },
  {
   "cell_type": "markdown",
   "id": "12cab44b-0862-42b5-860f-2322c874e9d9",
   "metadata": {},
   "source": [
    "Example 2:\n",
    "\n",
    "Input: nums = [1,2,1,3,5,6,4]\n",
    "Output: 5\n",
    "Explanation: Your function can return either index number 1 where the peak element is 2, or index number 5 where the peak element is 6."
   ]
  },
  {
   "cell_type": "code",
   "execution_count": 23,
   "id": "50d2c4a2-a7d4-43a9-ba5a-006159a11c2f",
   "metadata": {},
   "outputs": [],
   "source": [
    "class Solution(object):\n",
    "    def findPeakElement(self, nums):\n",
    "        \"\"\"\n",
    "        :type nums: List[int]\n",
    "        :rtype: int\n",
    "        \"\"\"\n",
    "        left = 0\n",
    "        right = len(nums) - 1\n",
    "        # 思路: 保證左右都依定存在低谷去砍半\n",
    "        # 比較兩個值\n",
    "        # 右邊大就把 left = 右邊的數字 因為這樣保證在最左邊有個低谷 反之同理\n",
    "        # 最後一輪誰大就回傳誰\n",
    "        while left < right:\n",
    "            mid1 = (left + right) // 2\n",
    "            mid2 = mid1 + 1\n",
    "            if nums[mid1] < nums[mid2]:\n",
    "                # 右邊大(mid2) 所以回傳left=mid2\n",
    "                left = mid2  \n",
    "            else:\n",
    "                # 左邊大(mid1) left已經是答案了 right = mid1 可以讓迴圈跳出\n",
    "                right = mid1 \n",
    "        return left"
   ]
  },
  {
   "cell_type": "code",
   "execution_count": 22,
   "id": "99ece1ed-8278-464b-9a27-3f9cd2396ea7",
   "metadata": {},
   "outputs": [
    {
     "data": {
      "text/plain": [
       "4"
      ]
     },
     "execution_count": 22,
     "metadata": {},
     "output_type": "execute_result"
    }
   ],
   "source": [
    "nums = [1,2,1,3,7,6,4]\n",
    "# nums = [5,2,3,4,3,4,3,4]\n",
    "# nums = [7,6,1,3]\n",
    "a = Solution()\n",
    "a.findPeakElement(nums)"
   ]
  },
  {
   "cell_type": "code",
   "execution_count": null,
   "id": "7d688bb8-4fdf-49cc-8221-2e4daf438bd7",
   "metadata": {},
   "outputs": [],
   "source": []
  },
  {
   "cell_type": "code",
   "execution_count": null,
   "id": "8244ccba-827f-4058-9994-f67ea2524215",
   "metadata": {},
   "outputs": [],
   "source": []
  }
 ],
 "metadata": {
  "kernelspec": {
   "display_name": "Python 3 (ipykernel)",
   "language": "python",
   "name": "python3"
  },
  "language_info": {
   "codemirror_mode": {
    "name": "ipython",
    "version": 3
   },
   "file_extension": ".py",
   "mimetype": "text/x-python",
   "name": "python",
   "nbconvert_exporter": "python",
   "pygments_lexer": "ipython3",
   "version": "3.9.13"
  }
 },
 "nbformat": 4,
 "nbformat_minor": 5
}

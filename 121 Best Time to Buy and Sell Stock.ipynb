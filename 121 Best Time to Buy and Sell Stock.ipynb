{
 "cells": [
  {
   "cell_type": "markdown",
   "id": "5cc8b785-4d58-48a1-a8a7-ba463a44abaa",
   "metadata": {},
   "source": [
    "You are given an array prices where prices[i] is the price of a given stock on the ith day.\n",
    "\n",
    "You want to maximize your profit by choosing a single day to buy one stock and choosing a different day in the future to sell that stock.\n",
    "\n",
    "Return the maximum profit you can achieve from this transaction. If you cannot achieve any profit, return 0."
   ]
  },
  {
   "cell_type": "markdown",
   "id": "191133d3-478d-4659-9c31-98e1fa6ef0ef",
   "metadata": {},
   "source": [
    "Example 1:\n",
    "\n",
    "Input: prices = [7,1,5,3,6,4]\n",
    "Output: 5\n",
    "Explanation: Buy on day 2 (price = 1) and sell on day 5 (price = 6), profit = 6-1 = 5.\n",
    "Note that buying on day 2 and selling on day 1 is not allowed because you must buy before you sell."
   ]
  },
  {
   "cell_type": "markdown",
   "id": "0d01f1e8-b4bc-4248-bc92-536a5a368350",
   "metadata": {},
   "source": [
    "Example 2:\n",
    "\n",
    "Input: prices = [7,6,4,3,1]\n",
    "Output: 0\n",
    "Explanation: In this case, no transactions are done and the max profit = 0."
   ]
  },
  {
   "cell_type": "code",
   "execution_count": 10,
   "id": "5495b517-4ebf-4147-93e9-25b21f2beeb1",
   "metadata": {},
   "outputs": [],
   "source": [
    "class Solution(object):\n",
    "    def maxProfit(self, prices):\n",
    "        \"\"\"\n",
    "        :type prices: List[int]\n",
    "        :rtype: int\n",
    "        \"\"\"\n",
    "        if len(prices) <= 1:\n",
    "            return 0        \n",
    "        buy = prices[0]  # 買入價\n",
    "        sell = 0         # 賣出價\n",
    "        maxProfit = 0    # 最大收益\n",
    "        for idx in range(1, len(prices)):\n",
    "            if prices[idx] == buy:\n",
    "                continue\n",
    "            if prices[idx] < buy:  # 更新當前最低買入價\n",
    "                buy = prices[idx]\n",
    "                sell = 0  # 買入價更新過後更之前的賣出價就不重要了得更新\n",
    "                continue\n",
    "            if prices[idx] > sell:  # 更新當前最高賣出價\n",
    "                sell = prices[idx]\n",
    "                newProfit = sell - buy\n",
    "                if newProfit > maxProfit:\n",
    "                    maxProfit = newProfit\n",
    "        return maxProfit"
   ]
  },
  {
   "cell_type": "code",
   "execution_count": 11,
   "id": "97a4d4ae-1911-4787-a5d8-fb6e1add696d",
   "metadata": {},
   "outputs": [
    {
     "data": {
      "text/plain": [
       "6"
      ]
     },
     "execution_count": 11,
     "metadata": {},
     "output_type": "execute_result"
    }
   ],
   "source": [
    "prices =  [7,1,6,3,7,4]\n",
    "a = Solution()\n",
    "a.maxProfit(prices)"
   ]
  }
 ],
 "metadata": {
  "kernelspec": {
   "display_name": "Python 3 (ipykernel)",
   "language": "python",
   "name": "python3"
  },
  "language_info": {
   "codemirror_mode": {
    "name": "ipython",
    "version": 3
   },
   "file_extension": ".py",
   "mimetype": "text/x-python",
   "name": "python",
   "nbconvert_exporter": "python",
   "pygments_lexer": "ipython3",
   "version": "3.9.13"
  }
 },
 "nbformat": 4,
 "nbformat_minor": 5
}

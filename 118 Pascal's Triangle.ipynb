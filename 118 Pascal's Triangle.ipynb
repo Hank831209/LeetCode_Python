{
 "cells": [
  {
   "cell_type": "markdown",
   "id": "fccae4d7-fe29-419a-b682-78b67b56cae1",
   "metadata": {},
   "source": [
    "Given an integer numRows, return the first numRows of Pascal's triangle.\n",
    "\n",
    "In Pascal's triangle, each number is the sum of the two numbers directly above it as shown:"
   ]
  },
  {
   "cell_type": "markdown",
   "id": "1549e43f-4a7c-417b-ab1f-8008711567b5",
   "metadata": {},
   "source": [
    "Example 1:\n",
    "\n",
    "Input: numRows = 5\n",
    "Output: [[1],[1,1],[1,2,1],[1,3,3,1],[1,4,6,4,1]]"
   ]
  },
  {
   "cell_type": "markdown",
   "id": "c32ed7b5-e424-4b8e-aa34-0cc08977341c",
   "metadata": {},
   "source": [
    "Example 2:\n",
    "\n",
    "Input: numRows = 1\n",
    "Output: [[1]]"
   ]
  },
  {
   "cell_type": "code",
   "execution_count": 24,
   "id": "a18c9e86-eff9-4e67-ad31-c4576a926927",
   "metadata": {},
   "outputs": [],
   "source": [
    "class Solution(object):\n",
    "    def generate(self, numRows):\n",
    "        \"\"\"\n",
    "        :type numRows: int\n",
    "        :rtype: List[List[int]]\n",
    "        \"\"\"\n",
    "        if numRows == 1:\n",
    "            return [[1]]\n",
    "        else:\n",
    "            # 上一層\n",
    "            return self.getPacal(self.generate(numRows-1))\n",
    "        \n",
    "    def getPacal(self, pacal):\n",
    "        # print(pacal)\n",
    "        last = [0] + pacal[-1] + [0]\n",
    "        temp = []\n",
    "        for i in range(0, len(last)-1):\n",
    "            temp.append(last[i] + last[i+1])\n",
    "        pacal.append(temp)\n",
    "        return pacal"
   ]
  },
  {
   "cell_type": "code",
   "execution_count": 27,
   "id": "1e03a7d1-4fff-4e2d-a068-e143733cfb7f",
   "metadata": {},
   "outputs": [
    {
     "data": {
      "text/plain": [
       "[[1], [1, 1], [1, 2, 1], [1, 3, 3, 1], [1, 4, 6, 4, 1], [1, 5, 10, 10, 5, 1]]"
      ]
     },
     "execution_count": 27,
     "metadata": {},
     "output_type": "execute_result"
    }
   ],
   "source": [
    "nums = [[1], [1,1]]\n",
    "numRows = 6\n",
    "a = Solution()\n",
    "# a.getPacal(nums)\n",
    "a.generate(numRows)"
   ]
  },
  {
   "cell_type": "code",
   "execution_count": null,
   "id": "9c0318ac-e2bc-43b3-abbd-de2647127768",
   "metadata": {},
   "outputs": [],
   "source": []
  }
 ],
 "metadata": {
  "kernelspec": {
   "display_name": "Python 3 (ipykernel)",
   "language": "python",
   "name": "python3"
  },
  "language_info": {
   "codemirror_mode": {
    "name": "ipython",
    "version": 3
   },
   "file_extension": ".py",
   "mimetype": "text/x-python",
   "name": "python",
   "nbconvert_exporter": "python",
   "pygments_lexer": "ipython3",
   "version": "3.9.13"
  }
 },
 "nbformat": 4,
 "nbformat_minor": 5
}

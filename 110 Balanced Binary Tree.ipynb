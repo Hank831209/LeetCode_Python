{
 "cells": [
  {
   "cell_type": "code",
   "execution_count": null,
   "id": "fda7c2e5-7d50-4152-8767-357cc27bcdd0",
   "metadata": {},
   "outputs": [],
   "source": [
    "Given a binary tree, determine if it is height-balanced\n",
    "\n",
    "Height-Balanced: A height-balanced binary tree is a binary tree in which the depth of the two subtrees of every \n",
    "                 node never differs by more than one."
   ]
  },
  {
   "cell_type": "markdown",
   "id": "0ec98b12-58ea-4b15-a833-c29426a29264",
   "metadata": {},
   "source": [
    "Example 1:\n",
    "    \n",
    "Input: root = [3,9,20,null,null,15,7]\n",
    "Output: true"
   ]
  },
  {
   "cell_type": "markdown",
   "id": "4d5aaa29-3b05-454d-b6cb-029b6aeb13f8",
   "metadata": {},
   "source": [
    "Example 2:\n",
    "    \n",
    "Input: root = [1,2,2,3,3,null,null,4,4]\n",
    "Output: false"
   ]
  },
  {
   "cell_type": "markdown",
   "id": "2dc290a9-33be-43d0-9936-bb665f5dc244",
   "metadata": {},
   "source": [
    "Example 3:\n",
    "\n",
    "Input: root = []\n",
    "Output: true"
   ]
  },
  {
   "cell_type": "code",
   "execution_count": null,
   "id": "d874a4ab-b35a-4d29-887c-f99036a65fb6",
   "metadata": {},
   "outputs": [],
   "source": [
    "# Definition for a binary tree node.\n",
    "# class TreeNode(object):\n",
    "#     def __init__(self, val=0, left=None, right=None):\n",
    "#         self.val = val\n",
    "#         self.left = left\n",
    "#         self.right = right\n",
    "class Solution(object):\n",
    "    def isBalanced(self, root):\n",
    "        \"\"\"\n",
    "        :type root: TreeNode\n",
    "        :rtype: bool\n",
    "        \"\"\"\n",
    "        if root == None:\n",
    "            return True\n",
    "        elif abs(self.maxDepth(root.left) - self.maxDepth(root.right)) > 1:\n",
    "            return False\n",
    "        \n",
    "        return self.isBalanced(root.left) and self.isBalanced(root.right)\n",
    "        \n",
    "    def maxDepth(self, root):\n",
    "        if root == None:\n",
    "            return 0  # 對每個節點來說沒東西返回0\n",
    "        else:         # 當下這個節點存在，則至少有1個節點數量，遞迴的去搜索剩下的\n",
    "            return 1 + max(self.maxDepth(root.left), self.maxDepth(root.right))"
   ]
  },
  {
   "cell_type": "code",
   "execution_count": null,
   "id": "04e5d996-7705-4bba-896c-6ba67424f5bc",
   "metadata": {},
   "outputs": [],
   "source": [
    "class Solution:\n",
    "    def isBalanced(self, root: TreeNode) -> bool:\n",
    "        def check(root):\n",
    "            if root is None:\n",
    "                return 0\n",
    "            left  = check(root.left)\n",
    "            right = check(root.right)\n",
    "            # 做提前判斷若等於-1: maxDepth不用執行完 可以省時間\n",
    "            if left == -1 or right == -1 or abs(left - right) > 1:\n",
    "                return -1\n",
    "            else:\n",
    "                return 1 + max(left, right)  # maxDepth\n",
    "            \n",
    "        return check(root) != -1"
   ]
  }
 ],
 "metadata": {
  "kernelspec": {
   "display_name": "Python 3 (ipykernel)",
   "language": "python",
   "name": "python3"
  },
  "language_info": {
   "codemirror_mode": {
    "name": "ipython",
    "version": 3
   },
   "file_extension": ".py",
   "mimetype": "text/x-python",
   "name": "python",
   "nbconvert_exporter": "python",
   "pygments_lexer": "ipython3",
   "version": "3.9.13"
  }
 },
 "nbformat": 4,
 "nbformat_minor": 5
}

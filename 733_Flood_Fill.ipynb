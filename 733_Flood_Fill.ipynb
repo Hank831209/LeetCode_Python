{
 "cells": [
  {
   "cell_type": "markdown",
   "id": "50947e59-eb67-4b9a-9e6f-da06b1272ebe",
   "metadata": {},
   "source": [
    "An image is represented by an m x n integer grid image where image[i][j] represents the pixel value of the image.\n",
    "\n",
    "You are also given three integers sr, sc, and color. You should perform a flood fill on the image starting from the pixel image[sr][sc].\n",
    "\n",
    "To perform a flood fill, consider the starting pixel, plus any pixels connected 4-directionally to the starting pixel of the same color as the starting pixel, plus any pixels connected 4-directionally to those pixels (also with the same color), and so on. Replace the color of all of the aforementioned pixels with color.\n",
    "\n",
    "Return the modified image after performing the flood fill."
   ]
  },
  {
   "cell_type": "markdown",
   "id": "78bcb9ef-8207-433b-813b-b4787cba5b88",
   "metadata": {},
   "source": [
    "Input: image = [[1,1,1],[1,1,0],[1,0,1]], sr = 1, sc = 1, color = 2\n",
    "Output: [[2,2,2],[2,2,0],[2,0,1]]\n",
    "Explanation: From the center of the image with position (sr, sc) = (1, 1) (i.e., the red pixel), all pixels connected by a path of the same color as the starting pixel (i.e., the blue pixels) are colored with the new color.\n",
    "Note the bottom corner is not colored 2, because it is not 4-directionally connected to the starting pixel."
   ]
  },
  {
   "cell_type": "markdown",
   "id": "0c9e61b8-beac-46f8-ae28-c4ca68d53e24",
   "metadata": {},
   "source": [
    "Input: image = [[0,0,0],[0,0,0]], sr = 0, sc = 0, color = 0\n",
    "Output: [[0,0,0],[0,0,0]]\n",
    "Explanation: The starting pixel is already colored 0, so no changes are made to the image."
   ]
  },
  {
   "cell_type": "code",
   "execution_count": 42,
   "id": "5afd547a-f87a-4612-9d68-9ee3fcc62059",
   "metadata": {},
   "outputs": [],
   "source": [
    "class Solution(object):\n",
    "    def fill(self, image, sr, sc, R, C, oldColor, newColor):\n",
    "        if sr<0 or sr==R or sc<0 or sc==C:  # 超出邊界\n",
    "            return\n",
    "        if image[sr][sc] == newColor:  # 已成為新顏色\n",
    "            return\n",
    "        if image[sr][sc] != oldColor:  # 不是舊顏色也不是新顏色\n",
    "            return\n",
    "        \n",
    "        image[sr][sc] = newColor  # 染色\n",
    "        # 所有鄰居都跑過一輪\n",
    "        self.fill(image, sr+1, sc, R, C, oldColor, newColor)\n",
    "        self.fill(image, sr-1, sc, R, C, oldColor, newColor)\n",
    "        self.fill(image, sr, sc+1, R, C, oldColor, newColor)\n",
    "        self.fill(image, sr, sc-1, R, C, oldColor, newColor)\n",
    "        return \n",
    "        \n",
    "    def floodFill(self, image, sr, sc, color):\n",
    "        \"\"\"\n",
    "        :type image: List[List[int]]\n",
    "        :type sr: int\n",
    "        :type sc: int\n",
    "        :type color: int\n",
    "        :rtype: List[List[int]]\n",
    "        \"\"\"\n",
    "        oldColor = image[sr][sc]\n",
    "        if oldColor == color:\n",
    "            return image\n",
    "        self.fill(image, sr, sc, len(image), len(image[0]), oldColor, color)\n",
    "        return image"
   ]
  },
  {
   "cell_type": "code",
   "execution_count": 43,
   "id": "6f17786b-4676-4679-b7a8-b2837e0959f2",
   "metadata": {},
   "outputs": [
    {
     "data": {
      "text/plain": [
       "[[2, 2, 2], [2, 2, 0], [2, 0, 1]]"
      ]
     },
     "execution_count": 43,
     "metadata": {},
     "output_type": "execute_result"
    }
   ],
   "source": [
    "a = Solution()\n",
    "image = [[1,1,1],[1,1,0],[1,0,1]]\n",
    "a.floodFill(image, 1, 1, 2)"
   ]
  },
  {
   "cell_type": "code",
   "execution_count": 50,
   "id": "673e1e89-70c7-4744-912b-8891d5216867",
   "metadata": {},
   "outputs": [],
   "source": [
    "class Solution(object):\n",
    "    def fill(self, image, sr, sc, oldColor, newColor, hasVisited):\n",
    "        # print(\"check\", sr, sc)\n",
    "        if sr == len(image) or sr < 0 or sc < 0 or sc == len(image[0]):  # 超出邊界\n",
    "            return\n",
    "        if hasVisited[sr][sc] == True:  # 已看過\n",
    "            return\n",
    "        if image[sr][sc] is not oldColor:  # 已染色 or 已是這個顏色\n",
    "            return;\n",
    "        # print(\"go\", sr, sc)\n",
    "        hasVisited[sr][sc] = True  # 標記為已看過\n",
    "        offsets = [1, -1]\n",
    "        image[sr][sc] = newColor;  # 染色\n",
    "        for offset in offsets:\n",
    "            self.fill(image, sr + offset, sc, oldColor, newColor, hasVisited)\n",
    "            self.fill(image, sr, sc + offset, oldColor, newColor, hasVisited)\n",
    "        return \n",
    "    \n",
    "    def floodFill(self, image, sr, sc, newColor):\n",
    "        if image[sr][sc] == newColor:\n",
    "            return image\n",
    "        hasVisited = [[0 for x in range(0, len(image[0]))] for y in range(0, len(image))]\n",
    "        self.fill(image, sr, sc, image[sr][sc], newColor, hasVisited)\n",
    "        return image"
   ]
  },
  {
   "cell_type": "code",
   "execution_count": 51,
   "id": "007057c6-26c0-4550-b03e-8c6dcb17ea16",
   "metadata": {},
   "outputs": [
    {
     "data": {
      "text/plain": [
       "[[2, 2, 2], [2, 2, 0], [2, 0, 1]]"
      ]
     },
     "execution_count": 51,
     "metadata": {},
     "output_type": "execute_result"
    }
   ],
   "source": [
    "a = Solution()\n",
    "image = [[1,1,1],[1,1,0],[1,0,1]]\n",
    "a.floodFill(image, 1, 1, 2)"
   ]
  },
  {
   "cell_type": "code",
   "execution_count": 17,
   "id": "dae13102-2bfd-453f-a494-9e496587cb30",
   "metadata": {},
   "outputs": [
    {
     "data": {
      "text/plain": [
       "[[1, 1, 1], [1, 1, 0], [1, 0, 1]]"
      ]
     },
     "execution_count": 17,
     "metadata": {},
     "output_type": "execute_result"
    }
   ],
   "source": [
    "image"
   ]
  },
  {
   "cell_type": "code",
   "execution_count": 22,
   "id": "2bc84e1b-d6b8-4b8e-b6bf-2e1cc00e3c70",
   "metadata": {},
   "outputs": [
    {
     "data": {
      "text/plain": [
       "1"
      ]
     },
     "execution_count": 22,
     "metadata": {},
     "output_type": "execute_result"
    }
   ],
   "source": [
    "image"
   ]
  },
  {
   "cell_type": "code",
   "execution_count": 1,
   "id": "bd351d56-6072-4e5c-903a-610dd0f0c281",
   "metadata": {},
   "outputs": [],
   "source": [
    "class Solution(object):\n",
    "    def fill(self, image, sr, sc, R, C, oldColor, newColor):\n",
    "        if sr == R or sr < 0 or sc < 0 or sc == C:  # 超出邊界\n",
    "            return\n",
    "        if image[sr][sc] == newColor:               # 已染過或是本來就是該顏色\n",
    "            return\n",
    "        if image[sr][sc] is not oldColor:  # \n",
    "            return;\n",
    "\n",
    "        image[sr][sc] = newColor;\n",
    "        \n",
    "        # 因為是遞迴所以每個點的上下左右都會染色過\n",
    "        self.fill(image, sr + 1, sc, R, C, oldColor, newColor)\n",
    "        self.fill(image, sr - 1, sc, R, C, oldColor, newColor)\n",
    "        self.fill(image, sr, sc + 1, R, C, oldColor, newColor)\n",
    "        self.fill(image, sr, sc - 1, R, C, oldColor, newColor)\n",
    "            \n",
    "        return\n",
    "    \n",
    "    def floodFill(self, image, sr, sc, newColor):\n",
    "        # print(len(image))\n",
    "        oldColor = image[sr][sc]\n",
    "        if oldColor == newColor:\n",
    "            return image\n",
    "        self.fill(image, sr, sc, len(image), len(image[0]), oldColor, newColor)\n",
    "        # print(hasVisited)\n",
    "        return image"
   ]
  },
  {
   "cell_type": "code",
   "execution_count": 2,
   "id": "dbb06447-ea34-4e2f-a452-b654dfcd3fb6",
   "metadata": {},
   "outputs": [
    {
     "data": {
      "text/plain": [
       "[[2, 2, 2], [2, 2, 0], [2, 0, 1]]"
      ]
     },
     "execution_count": 2,
     "metadata": {},
     "output_type": "execute_result"
    }
   ],
   "source": [
    "a = Solution()\n",
    "image = [[1,1,1],[1,1,0],[1,0,1]]\n",
    "a.floodFill(image, 1, 1, 2)"
   ]
  },
  {
   "cell_type": "code",
   "execution_count": null,
   "id": "9b58c8a4-e3a3-405e-8449-e0f44aa84215",
   "metadata": {},
   "outputs": [],
   "source": []
  }
 ],
 "metadata": {
  "kernelspec": {
   "display_name": "Python 3 (ipykernel)",
   "language": "python",
   "name": "python3"
  },
  "language_info": {
   "codemirror_mode": {
    "name": "ipython",
    "version": 3
   },
   "file_extension": ".py",
   "mimetype": "text/x-python",
   "name": "python",
   "nbconvert_exporter": "python",
   "pygments_lexer": "ipython3",
   "version": "3.9.13"
  }
 },
 "nbformat": 4,
 "nbformat_minor": 5
}

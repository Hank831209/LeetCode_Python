{
 "cells": [
  {
   "cell_type": "markdown",
   "id": "f59a7eeb-d4a7-4627-ab4a-47e1606636a7",
   "metadata": {},
   "source": [
    "Write an algorithm to determine if a number n is happy.\n",
    "\n",
    "A happy number is a number defined by the following process:\n",
    "\n",
    "Starting with any positive integer, replace the number by the sum of the squares of its digits.\n",
    "Repeat the process until the number equals 1 (where it will stay), or it loops endlessly in a cycle which does not include 1.\n",
    "Those numbers for which this process ends in 1 are happy.\n",
    "Return true if n is a happy number, and false if not."
   ]
  },
  {
   "cell_type": "markdown",
   "id": "f18d9b55-f982-423f-a869-57461c628914",
   "metadata": {},
   "source": [
    "Example 1:\n",
    "    \n",
    "Input: n = 19\n",
    "Output: true\n",
    "Explanation:\n",
    "1**2 + 9**2 = 82\n",
    "8**2 + 2**2 = 68\n",
    "6**2 + 8**2 = 100\n",
    "1**2 + 0**2 + 02 = 1\n",
    "\n",
    "Example 2:\n",
    "\n",
    "Input: n = 2\n",
    "Output: false"
   ]
  },
  {
   "cell_type": "code",
   "execution_count": 51,
   "id": "87c512f0-8daa-4d7a-8775-fa7689ea5d9f",
   "metadata": {},
   "outputs": [],
   "source": [
    "class Solution(object):\n",
    "    def isHappy(self, n):\n",
    "        \"\"\"\n",
    "        :type n: int\n",
    "        :rtype: bool\n",
    "        \"\"\"\n",
    "        def count_value(n):\n",
    "            k = 0\n",
    "            for i in str(n):\n",
    "                k += int(i)**2\n",
    "            return k\n",
    "\n",
    "        count = [n]\n",
    "        while True:\n",
    "            n = count_value(n)\n",
    "            if n == 1:\n",
    "                return True\n",
    "            if n in count:\n",
    "                return False\n",
    "            count.append(n)"
   ]
  },
  {
   "cell_type": "code",
   "execution_count": 52,
   "id": "c99df612-c559-49ff-80b6-3b7b7a042230",
   "metadata": {},
   "outputs": [
    {
     "name": "stdout",
     "output_type": "stream",
     "text": [
      "True\n",
      "False\n",
      "True\n"
     ]
    }
   ],
   "source": [
    "n1 = 19\n",
    "n2 = 2\n",
    "n3 = 1111111\n",
    "ans = Solution()\n",
    "print(ans.isHappy(n1))\n",
    "print(ans.isHappy(n2))\n",
    "print(ans.isHappy(n3))"
   ]
  },
  {
   "cell_type": "code",
   "execution_count": null,
   "id": "2ba17d68-90e9-43e4-8498-5700fab4a258",
   "metadata": {},
   "outputs": [],
   "source": []
  }
 ],
 "metadata": {
  "kernelspec": {
   "display_name": "Python 3 (ipykernel)",
   "language": "python",
   "name": "python3"
  },
  "language_info": {
   "codemirror_mode": {
    "name": "ipython",
    "version": 3
   },
   "file_extension": ".py",
   "mimetype": "text/x-python",
   "name": "python",
   "nbconvert_exporter": "python",
   "pygments_lexer": "ipython3",
   "version": "3.9.13"
  }
 },
 "nbformat": 4,
 "nbformat_minor": 5
}

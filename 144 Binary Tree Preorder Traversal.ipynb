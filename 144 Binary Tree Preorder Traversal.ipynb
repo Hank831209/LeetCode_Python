{
 "cells": [
  {
   "cell_type": "markdown",
   "id": "dd204c58-d49c-412d-8da6-7961b7386b24",
   "metadata": {},
   "source": [
    "Given the root of a binary tree, return the preorder traversal of its nodes' values."
   ]
  },
  {
   "cell_type": "markdown",
   "id": "eaf5bdd5-4b95-4411-b565-aafd3e4cc5bd",
   "metadata": {},
   "source": [
    "Example 1:\n",
    "\n",
    "Input: root = [1,null,2,3]\n",
    "Output: [1,2,3]"
   ]
  },
  {
   "cell_type": "markdown",
   "id": "85951f13-63e3-42b3-907a-bae3570afe0f",
   "metadata": {},
   "source": [
    "Example 2:\n",
    "\n",
    "Input: root = []\n",
    "Output: []"
   ]
  },
  {
   "cell_type": "markdown",
   "id": "49bd8081-6a11-4f70-ad45-8b3fe8751f10",
   "metadata": {},
   "source": [
    "Example 3:\n",
    "\n",
    "Input: root = [1]\n",
    "Output: [1]"
   ]
  },
  {
   "cell_type": "code",
   "execution_count": null,
   "id": "a24a76f3-187a-45af-abe0-7abd03daca65",
   "metadata": {},
   "outputs": [],
   "source": [
    "# Definition for a binary tree node.\n",
    "# class TreeNode(object):\n",
    "#     def __init__(self, val=0, left=None, right=None):\n",
    "#         self.val = val\n",
    "#         self.left = left\n",
    "#         self.right = right\n",
    "class Solution(object):\n",
    "    def preorderTraversal(self, root):\n",
    "        \"\"\"\n",
    "        :type root: TreeNode\n",
    "        :rtype: List[int]\n",
    "        \"\"\"\n",
    "        if not root:\n",
    "            return []\n",
    "        \n",
    "        return self.Traversal(root, [])\n",
    "        \n",
    "    def Traversal(self, root, temp):\n",
    "        if root == None:\n",
    "            return temp\n",
    "        temp.append(root.val)\n",
    "        temp = self.Traversal(root.left, temp)\n",
    "        temp = self.Traversal(root.right, temp)\n",
    "        return temp"
   ]
  },
  {
   "cell_type": "code",
   "execution_count": null,
   "id": "425806ba-aaba-4834-a632-fa705361c5b7",
   "metadata": {},
   "outputs": [],
   "source": []
  },
  {
   "cell_type": "code",
   "execution_count": null,
   "id": "08343493-3b02-40dd-a3e5-d2e5cd3afd73",
   "metadata": {},
   "outputs": [],
   "source": []
  }
 ],
 "metadata": {
  "kernelspec": {
   "display_name": "Python 3 (ipykernel)",
   "language": "python",
   "name": "python3"
  },
  "language_info": {
   "codemirror_mode": {
    "name": "ipython",
    "version": 3
   },
   "file_extension": ".py",
   "mimetype": "text/x-python",
   "name": "python",
   "nbconvert_exporter": "python",
   "pygments_lexer": "ipython3",
   "version": "3.9.13"
  }
 },
 "nbformat": 4,
 "nbformat_minor": 5
}

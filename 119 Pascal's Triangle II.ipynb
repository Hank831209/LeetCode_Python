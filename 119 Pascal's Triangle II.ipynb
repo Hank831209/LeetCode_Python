{
 "cells": [
  {
   "cell_type": "markdown",
   "id": "8e56cd81-76e1-4e5c-8231-6eefa9eae730",
   "metadata": {},
   "source": [
    "Given an integer rowIndex, return the rowIndexth (0-indexed) row of the Pascal's triangle.\n",
    "\n",
    "In Pascal's triangle, each number is the sum of the two numbers directly above it as shown:"
   ]
  },
  {
   "cell_type": "markdown",
   "id": "73b5dd0f-6dc5-4289-b1a0-d98b1d4a912d",
   "metadata": {},
   "source": [
    "Example 1:\n",
    "\n",
    "Input: rowIndex = 3\n",
    "Output: [1,3,3,1]"
   ]
  },
  {
   "cell_type": "markdown",
   "id": "d69a6056-a948-4e04-8684-6a700b2d31de",
   "metadata": {},
   "source": [
    "Example 2:\n",
    "\n",
    "Input: rowIndex = 0\n",
    "Output: [1]"
   ]
  },
  {
   "cell_type": "markdown",
   "id": "198b44a3-1dcf-43f5-8600-b2a91ecf2f27",
   "metadata": {},
   "source": [
    "Example 3:\n",
    "\n",
    "Input: rowIndex = 1\n",
    "Output: [1,1]"
   ]
  },
  {
   "cell_type": "code",
   "execution_count": 3,
   "id": "b790dccb-1582-427c-b690-2fede98e8de8",
   "metadata": {},
   "outputs": [],
   "source": [
    "class Solution(object):\n",
    "    def getRow(self, rowIndex):\n",
    "        \"\"\"\n",
    "        :type rowIndex: int\n",
    "        :rtype: List[int]\n",
    "        \"\"\"\n",
    "        if rowIndex == 0:\n",
    "            return [1]\n",
    "        else: \n",
    "            return self.getPacal(self.getRow(rowIndex-1))\n",
    "        \n",
    "    def getPacal(self, pacal):\n",
    "        # print(pacal)\n",
    "        pacal = [0] + pacal + [0]\n",
    "        temp = []\n",
    "        for i in range(0, len(pacal)-1):\n",
    "            temp.append(pacal[i] + pacal[i+1])\n",
    "        return temp"
   ]
  },
  {
   "cell_type": "code",
   "execution_count": 8,
   "id": "2d610ba6-3698-4970-9c9d-8637e138cf89",
   "metadata": {},
   "outputs": [
    {
     "data": {
      "text/plain": [
       "[1, 3, 3, 1]"
      ]
     },
     "execution_count": 8,
     "metadata": {},
     "output_type": "execute_result"
    }
   ],
   "source": [
    "rowIndex = 3\n",
    "a = Solution()\n",
    "a.getRow(rowIndex)"
   ]
  },
  {
   "cell_type": "code",
   "execution_count": null,
   "id": "656c91e6-1eb7-4c50-9bcc-8d852b04e929",
   "metadata": {},
   "outputs": [],
   "source": []
  }
 ],
 "metadata": {
  "kernelspec": {
   "display_name": "Python 3 (ipykernel)",
   "language": "python",
   "name": "python3"
  },
  "language_info": {
   "codemirror_mode": {
    "name": "ipython",
    "version": 3
   },
   "file_extension": ".py",
   "mimetype": "text/x-python",
   "name": "python",
   "nbconvert_exporter": "python",
   "pygments_lexer": "ipython3",
   "version": "3.9.13"
  }
 },
 "nbformat": 4,
 "nbformat_minor": 5
}

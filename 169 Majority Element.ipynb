{
 "cells": [
  {
   "cell_type": "markdown",
   "id": "8db2e485-d61b-42b3-8f4b-f0c52959ebec",
   "metadata": {},
   "source": [
    "Given an array nums of size n, return the majority element.\n",
    "\n",
    "The majority element is the element that appears more than ⌊n / 2⌋ times. You may assume that the majority element always exists in the array."
   ]
  },
  {
   "cell_type": "markdown",
   "id": "58f52eda-c1cc-4662-b07a-1c5a9e36d1fb",
   "metadata": {},
   "source": [
    "Example 1:\n",
    "\n",
    "Input: nums = [3,2,3]\n",
    "Output: 3"
   ]
  },
  {
   "cell_type": "markdown",
   "id": "82bf2e3d-e0ec-440e-a222-f18708a95381",
   "metadata": {},
   "source": [
    "Example 2:\n",
    "\n",
    "Input: nums = [2,2,1,1,1,2,2]\n",
    "Output: 2"
   ]
  },
  {
   "cell_type": "code",
   "execution_count": 4,
   "id": "910f61ef-ad91-4671-a74c-50938ce35df9",
   "metadata": {},
   "outputs": [],
   "source": [
    "class Solution(object):\n",
    "    def majorityElement(self, nums):\n",
    "        \"\"\"\n",
    "        :type nums: List[int]\n",
    "        :rtype: int\n",
    "        \"\"\"\n",
    "        n = len(nums)*0.5\n",
    "        seen = set()\n",
    "        for i in nums:\n",
    "            if i in seen:\n",
    "                continue\n",
    "            seen.add(i)\n",
    "            if nums.count(i) > n:\n",
    "                return i"
   ]
  },
  {
   "cell_type": "code",
   "execution_count": 9,
   "id": "181ed848-6f82-4b51-b242-564d44675827",
   "metadata": {},
   "outputs": [],
   "source": [
    "class Solution(object):\n",
    "    def majorityElement(self, nums):\n",
    "        \"\"\"\n",
    "        :type nums: List[int]\n",
    "        :rtype: int\n",
    "        \"\"\"\n",
    "        major = 0\n",
    "        count = 0\n",
    "        for n in nums:\n",
    "            if count == 0:\n",
    "                major = n\n",
    "            if major == n:\n",
    "                count += 1\n",
    "            else:\n",
    "                count -= 1\n",
    "        return major"
   ]
  },
  {
   "cell_type": "code",
   "execution_count": 10,
   "id": "efb0877b-f8d9-48b1-a259-18dc15048d39",
   "metadata": {},
   "outputs": [
    {
     "data": {
      "text/plain": [
       "2"
      ]
     },
     "execution_count": 10,
     "metadata": {},
     "output_type": "execute_result"
    }
   ],
   "source": [
    "nums = [2,2,1,1,1,2,2]\n",
    "a = Solution()\n",
    "a.majorityElement(nums)"
   ]
  },
  {
   "cell_type": "code",
   "execution_count": 3,
   "id": "a409e5ca-39f6-44ef-9c3c-aa655d9a86f9",
   "metadata": {},
   "outputs": [
    {
     "data": {
      "text/plain": [
       "{1}"
      ]
     },
     "execution_count": 3,
     "metadata": {},
     "output_type": "execute_result"
    }
   ],
   "source": [
    "seen = set()\n",
    "seen.add(1)\n",
    "seen"
   ]
  },
  {
   "cell_type": "code",
   "execution_count": null,
   "id": "c123636c-3ff6-43f1-8442-ff7cca100604",
   "metadata": {},
   "outputs": [],
   "source": []
  }
 ],
 "metadata": {
  "kernelspec": {
   "display_name": "Python 3 (ipykernel)",
   "language": "python",
   "name": "python3"
  },
  "language_info": {
   "codemirror_mode": {
    "name": "ipython",
    "version": 3
   },
   "file_extension": ".py",
   "mimetype": "text/x-python",
   "name": "python",
   "nbconvert_exporter": "python",
   "pygments_lexer": "ipython3",
   "version": "3.9.13"
  }
 },
 "nbformat": 4,
 "nbformat_minor": 5
}

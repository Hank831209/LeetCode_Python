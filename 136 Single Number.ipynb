{
 "cells": [
  {
   "cell_type": "markdown",
   "id": "e378122f-53e6-46b3-a30e-76f328d51819",
   "metadata": {},
   "source": [
    "Given a non-empty array of integers nums, every element appears twice except for one. Find that single one.\n",
    "\n",
    "You must implement a solution with a linear runtime complexity and use only constant extra space."
   ]
  },
  {
   "cell_type": "markdown",
   "id": "3b27b2f4-0b59-45e9-8e78-ba297891d0a1",
   "metadata": {},
   "source": [
    "Example 1:\n",
    "\n",
    "Input: nums = [2,2,1]\n",
    "Output: 1\n",
    "Example 2:\n",
    "\n",
    "Input: nums = [4,1,2,1,2]\n",
    "Output: 4\n",
    "Example 3:\n",
    "\n",
    "Input: nums = [1]\n",
    "Output: 1"
   ]
  },
  {
   "cell_type": "code",
   "execution_count": 22,
   "id": "75d1dea6-abad-4876-bf30-3027e4878892",
   "metadata": {},
   "outputs": [],
   "source": [
    "class Solution(object):\n",
    "    def singleNumber(self, nums):\n",
    "        \"\"\"\n",
    "        :type nums: List[int]\n",
    "        :rtype: int\n",
    "        \"\"\"\n",
    "        # 使用XOR運算: 相同的返回0 相異的返回1\n",
    "        # 所以自己和自己做XOR一定會是0   2^2=0\n",
    "        # 因此所以的數字全部做一次XOR最後只會剩下單獨的那一個\n",
    "        # 1^2^2^3^3 = 1\n",
    "        ans = 0\n",
    "        for i in nums:\n",
    "            ans = ans ^ i\n",
    "        return ans"
   ]
  },
  {
   "cell_type": "code",
   "execution_count": 23,
   "id": "21dae07d-cfb3-42ce-8a2b-ba3cd55d155c",
   "metadata": {},
   "outputs": [
    {
     "data": {
      "text/plain": [
       "4"
      ]
     },
     "execution_count": 23,
     "metadata": {},
     "output_type": "execute_result"
    }
   ],
   "source": [
    "nums = [4,1,2,1,2]\n",
    "ans = Solution()\n",
    "ans.singleNumber(nums)"
   ]
  },
  {
   "cell_type": "code",
   "execution_count": null,
   "id": "32766de5-a110-4a8c-b4f4-4dc8ee5edc52",
   "metadata": {},
   "outputs": [],
   "source": []
  }
 ],
 "metadata": {
  "kernelspec": {
   "display_name": "Python 3 (ipykernel)",
   "language": "python",
   "name": "python3"
  },
  "language_info": {
   "codemirror_mode": {
    "name": "ipython",
    "version": 3
   },
   "file_extension": ".py",
   "mimetype": "text/x-python",
   "name": "python",
   "nbconvert_exporter": "python",
   "pygments_lexer": "ipython3",
   "version": "3.9.13"
  }
 },
 "nbformat": 4,
 "nbformat_minor": 5
}

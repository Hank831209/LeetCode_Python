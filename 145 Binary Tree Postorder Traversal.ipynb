{
 "cells": [
  {
   "cell_type": "markdown",
   "id": "023a33ad-6545-4601-a0d9-c9d065a5f5fc",
   "metadata": {},
   "source": [
    "Given the root of a binary tree, return the postorder traversal of its nodes' values."
   ]
  },
  {
   "cell_type": "markdown",
   "id": "58cbbb80-2392-4f0c-8c7c-9aac256096de",
   "metadata": {},
   "source": [
    "Example 1:\n",
    "\n",
    "Input: root = [1,null,2,3]\n",
    "Output: [3,2,1]"
   ]
  },
  {
   "cell_type": "markdown",
   "id": "8628296c-483c-4cda-8ecd-a7db41755330",
   "metadata": {},
   "source": [
    "Example 2:\n",
    "\n",
    "Input: root = []\n",
    "Output: []"
   ]
  },
  {
   "cell_type": "markdown",
   "id": "7683df02-72be-47af-aa53-915c652945cb",
   "metadata": {},
   "source": [
    "Example 3:\n",
    "\n",
    "Input: root = [1]\n",
    "Output: [1]"
   ]
  },
  {
   "cell_type": "code",
   "execution_count": null,
   "id": "312b98b3-5c70-4ca3-bf87-2199c94f9423",
   "metadata": {},
   "outputs": [],
   "source": [
    "# Definition for a binary tree node.\n",
    "# class TreeNode(object):\n",
    "#     def __init__(self, val=0, left=None, right=None):\n",
    "#         self.val = val\n",
    "#         self.left = left\n",
    "#         self.right = right\n",
    "class Solution(object):\n",
    "    def postorderTraversal(self, root):\n",
    "        \"\"\"\n",
    "        :type root: TreeNode\n",
    "        :rtype: List[int]\n",
    "        \"\"\"\n",
    "        if not root:\n",
    "            return []\n",
    "        return self.Traversal(root, [])\n",
    "        \n",
    "    def Traversal(self, root, temp):\n",
    "        if root == None:\n",
    "            return temp\n",
    "        \n",
    "        temp = self.Traversal(root.left, temp)\n",
    "        temp = self.Traversal(root.right, temp)\n",
    "        temp.append(root.val)\n",
    "        return temp"
   ]
  }
 ],
 "metadata": {
  "kernelspec": {
   "display_name": "Python 3 (ipykernel)",
   "language": "python",
   "name": "python3"
  },
  "language_info": {
   "codemirror_mode": {
    "name": "ipython",
    "version": 3
   },
   "file_extension": ".py",
   "mimetype": "text/x-python",
   "name": "python",
   "nbconvert_exporter": "python",
   "pygments_lexer": "ipython3",
   "version": "3.9.13"
  }
 },
 "nbformat": 4,
 "nbformat_minor": 5
}

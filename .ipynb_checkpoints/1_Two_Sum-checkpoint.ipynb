{
 "cells": [
  {
   "cell_type": "markdown",
   "id": "7040276f-08f9-4c22-b8a8-1f5961e8a645",
   "metadata": {},
   "source": [
    "### Description:\n",
    "Given an array of integers nums and an integer target,\n",
    "return indices of the two numbers such that they add up\n",
    "to target.\n",
    "You may assume that each input would have exactly one solution,\n",
    "and you may not use the same element twice.\n",
    "You can return the answer in any order."
   ]
  },
  {
   "cell_type": "markdown",
   "id": "902d82e0-243b-49de-8702-ca23d741a3e9",
   "metadata": {},
   "source": [
    "### Sol1:"
   ]
  },
  {
   "cell_type": "code",
   "execution_count": 4,
   "id": "cb417df1-56fd-4242-8098-fe4a91861732",
   "metadata": {},
   "outputs": [],
   "source": [
    "class Solution(object):\n",
    "    # 很直觀的思路, 一個一個看但速度相對較慢(時間複雜度高, O(N^2))\n",
    "    def twoSum_Solution(self, nums, target):\n",
    "        \"\"\"\n",
    "        :type nums: List[int]\n",
    "        :type target: int\n",
    "        :rtype: List[int]\n",
    "        \"\"\"\n",
    "        for i in range(len(nums)):\n",
    "            for j in range(len(nums)):\n",
    "                if nums[i] + nums[j] == target and i != j:\n",
    "                    return [i, j]"
   ]
  },
  {
   "cell_type": "markdown",
   "id": "1640bf0d-769d-4b63-bf32-b1234d7f270c",
   "metadata": {},
   "source": [
    "### Sol2:"
   ]
  },
  {
   "cell_type": "code",
   "execution_count": 5,
   "id": "33c322f2-c3c7-4fd6-8d64-54e035c010ed",
   "metadata": {},
   "outputs": [],
   "source": [
    "class Solution(object):\n",
    "    def twoSum(self, nums, target):\n",
    "        \"\"\"\n",
    "        :type nums: List[int]\n",
    "        :type target: int\n",
    "        :rtype: List[int]\n",
    "        \"\"\"\n",
    "        # List的數字只會掃過一遍(時間複雜度低, O(N))\n",
    "        # 利用python字典的 __contains__方法(查詢字典中是否存在該key值),\n",
    "        # get方法(給定key值回傳value值)完成\n",
    "        num_map = {}\n",
    "        for i in range(len(nums)):\n",
    "            if num_map.__contains__(target - nums[i]):\n",
    "                return [num_map.get(target - nums[i]), i]\n",
    "            else:\n",
    "                num_map[nums[i]] = i"
   ]
  },
  {
   "cell_type": "code",
   "execution_count": null,
   "id": "d08423c3-c692-49f2-ab9e-88584bfcdf45",
   "metadata": {},
   "outputs": [],
   "source": []
  }
 ],
 "metadata": {
  "kernelspec": {
   "display_name": "Python 3 (ipykernel)",
   "language": "python",
   "name": "python3"
  },
  "language_info": {
   "codemirror_mode": {
    "name": "ipython",
    "version": 3
   },
   "file_extension": ".py",
   "mimetype": "text/x-python",
   "name": "python",
   "nbconvert_exporter": "python",
   "pygments_lexer": "ipython3",
   "version": "3.9.12"
  }
 },
 "nbformat": 4,
 "nbformat_minor": 5
}

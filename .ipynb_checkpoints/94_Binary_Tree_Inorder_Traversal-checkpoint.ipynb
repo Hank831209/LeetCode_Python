{
 "cells": [
  {
   "cell_type": "markdown",
   "id": "49d4cfe5-0bff-4fbe-ae23-c8ed8bc54838",
   "metadata": {},
   "source": [
    "### Description\n",
    "Given the root of a binary tree, return the inorder traversal of its nodes' values."
   ]
  },
  {
   "cell_type": "code",
   "execution_count": 1,
   "id": "7dfb41ab-3292-4101-9edb-26b6c58ae477",
   "metadata": {},
   "outputs": [],
   "source": [
    "# Definition for a binary tree node.\n",
    "# class TreeNode(object):\n",
    "#     def __init__(self, val=0, left=None, right=None):\n",
    "#         self.val = val\n",
    "#         self.left = left\n",
    "#         self.right = right\n",
    "class Solution(object):\n",
    "    def traversal(self, root, inorder_list):\n",
    "        # 沒有節點往回走\n",
    "        if root == None:\n",
    "            return inorder_list\n",
    "        inorder_list = self.traversal(root.left, inorder_list)\n",
    "        inorder_list.append(root.val)\n",
    "        inorder_list = self.traversal(root.right, inorder_list)\n",
    "        return inorder_list\n",
    "    def inorderTraversal(self, root):\n",
    "        return self.traversal(root, [])"
   ]
  },
  {
   "cell_type": "code",
   "execution_count": null,
   "id": "9c4aff4a-c462-4221-b685-a2d8ba0517de",
   "metadata": {},
   "outputs": [],
   "source": []
  }
 ],
 "metadata": {
  "kernelspec": {
   "display_name": "Python 3 (ipykernel)",
   "language": "python",
   "name": "python3"
  },
  "language_info": {
   "codemirror_mode": {
    "name": "ipython",
    "version": 3
   },
   "file_extension": ".py",
   "mimetype": "text/x-python",
   "name": "python",
   "nbconvert_exporter": "python",
   "pygments_lexer": "ipython3",
   "version": "3.9.12"
  }
 },
 "nbformat": 4,
 "nbformat_minor": 5
}

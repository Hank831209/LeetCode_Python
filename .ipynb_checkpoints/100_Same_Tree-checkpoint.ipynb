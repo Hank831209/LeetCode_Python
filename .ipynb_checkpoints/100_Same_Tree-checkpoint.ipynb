{
 "cells": [
  {
   "cell_type": "markdown",
   "id": "30001334-7a9e-4745-8b72-73f3e4861bfb",
   "metadata": {},
   "source": [
    "### Description\n",
    "Given the roots of two binary trees p and q, write a function to check if they are the same or not.\n",
    "\n",
    "Two binary trees are considered the same if they are structurally identical, and the nodes have the same value."
   ]
  },
  {
   "cell_type": "code",
   "execution_count": 1,
   "id": "a00a78a5-caf7-485e-87bf-4746d791786f",
   "metadata": {},
   "outputs": [],
   "source": [
    "# Definition for a binary tree node.\n",
    "# class TreeNode(object):\n",
    "#     def __init__(self, val=0, left=None, right=None):\n",
    "#         self.val = val\n",
    "#         self.left = left\n",
    "#         self.right = right\n",
    "class Solution(object):\n",
    "    def traversal(self, root, root_list):\n",
    "        if root == None:\n",
    "            root_list.append('None')\n",
    "            return root_list\n",
    "        root_list.append(root.val)\n",
    "        root_list = self.traversal(root.left, root_list)\n",
    "        root_list = self.traversal(root.right, root_list)\n",
    "        return root_list\n",
    "        \n",
    "        \n",
    "        \n",
    "    def isSameTree(self, p, q):\n",
    "        \"\"\"\n",
    "        :type p: TreeNode\n",
    "        :type q: TreeNode\n",
    "        :rtype: bool\n",
    "        \"\"\"\n",
    "        p_list = list()\n",
    "        q_list = list()\n",
    "        pl = self.traversal(p, p_list)\n",
    "        ql = self.traversal(q, q_list)\n",
    "        if pl == ql:\n",
    "            return True\n",
    "        else: \n",
    "            return False"
   ]
  }
 ],
 "metadata": {
  "kernelspec": {
   "display_name": "Python 3 (ipykernel)",
   "language": "python",
   "name": "python3"
  },
  "language_info": {
   "codemirror_mode": {
    "name": "ipython",
    "version": 3
   },
   "file_extension": ".py",
   "mimetype": "text/x-python",
   "name": "python",
   "nbconvert_exporter": "python",
   "pygments_lexer": "ipython3",
   "version": "3.9.12"
  }
 },
 "nbformat": 4,
 "nbformat_minor": 5
}

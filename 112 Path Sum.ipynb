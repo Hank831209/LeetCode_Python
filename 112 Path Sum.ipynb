{
 "cells": [
  {
   "cell_type": "markdown",
   "id": "a597f0ff-78b5-42a2-bda0-11ec7f6623dc",
   "metadata": {},
   "source": [
    "Given the root of a binary tree and an integer targetSum, return true if the tree has a root-to-leaf path such that adding up all the values along the path equals targetSum.\n",
    "\n",
    "A leaf is a node with no children."
   ]
  },
  {
   "cell_type": "markdown",
   "id": "6f9bda2c-4ef4-4591-b3be-2e33f5bf655a",
   "metadata": {},
   "source": [
    "Example 1:\n",
    "\n",
    "Input: root = [5,4,8,11,null,13,4,7,2,null,null,null,1], targetSum = 22\n",
    "Output: true\n",
    "Explanation: The root-to-leaf path with the target sum is shown."
   ]
  },
  {
   "cell_type": "markdown",
   "id": "7c750f20-ab0d-4ab2-b7fd-de29a0d06fbf",
   "metadata": {},
   "source": [
    "Example 2:\n",
    "\n",
    "Input: root = [1,2,3], targetSum = 5\n",
    "Output: false\n",
    "Explanation: There two root-to-leaf paths in the tree:\n",
    "(1 --> 2): The sum is 3.\n",
    "(1 --> 3): The sum is 4.\n",
    "There is no root-to-leaf path with sum = 5."
   ]
  },
  {
   "cell_type": "markdown",
   "id": "a366718c-b273-45f3-9861-df2d31ce84e7",
   "metadata": {},
   "source": [
    "Example 3:\n",
    "\n",
    "Input: root = [], targetSum = 0\n",
    "Output: false\n",
    "Explanation: Since the tree is empty, there are no root-to-leaf paths."
   ]
  },
  {
   "cell_type": "code",
   "execution_count": null,
   "id": "0a4173d9-89c7-4c45-8846-9b477ed9788c",
   "metadata": {},
   "outputs": [],
   "source": [
    "# Definition for a binary tree node.\n",
    "# class TreeNode(object):\n",
    "#     def __init__(self, val=0, left=None, right=None):\n",
    "#         self.val = val\n",
    "#         self.left = left\n",
    "#         self.right = right\n",
    "class Solution(object):\n",
    "    def hasPathSum(self, root, targetSum):\n",
    "        \"\"\"\n",
    "        :type root: TreeNode\n",
    "        :type targetSum: int\n",
    "        :rtype: bool\n",
    "        \"\"\"\n",
    "        return self.getsum(root, 0, targetSum)\n",
    "        \n",
    "    def getsum(self, root, val, targetSum):\n",
    "        if root == None:\n",
    "            return False  # 此次不進行判別\n",
    "        \n",
    "        val = val + root.val\n",
    "        # 結束條件: 左右子節點都不存在，則進行判別\n",
    "        if root.left == None and root.right == None:\n",
    "            # 判斷是否與target相同\n",
    "            return val==targetSum\n",
    "        else:\n",
    "            # 依然有子節點存在則繼續運算，左右只有其中有一條可以等於target即可達成條件因此用or\n",
    "            # 僅有一個子節點為None時，另一邊及續繼計算，None那邊會 return False以不妨礙運行\n",
    "            return self.getsum(root.left, val, targetSum) or self.getsum(root.right, val, targetSum)"
   ]
  },
  {
   "cell_type": "code",
   "execution_count": null,
   "id": "9cbaf89f-1991-4ff3-b4bc-bc22ed7698f2",
   "metadata": {},
   "outputs": [],
   "source": [
    "# Definition for a binary tree node.\n",
    "# class TreeNode:\n",
    "#     def __init__(self, val=0, left=None, right=None):\n",
    "#         self.val = val\n",
    "#         self.left = left\n",
    "#         self.right = right\n",
    "class Solution:\n",
    "    def hasPathSum(self, root: Optional[TreeNode], targetSum: int) -> bool:\n",
    "        def getsum(root,val,tar=targetSum):\n",
    "            if not root:\n",
    "                return False\n",
    "                \n",
    "            val=val+root.val\n",
    "            \n",
    "            if root.left==None and root.right==None:\n",
    "                return val==tar\n",
    "            else:\n",
    "                return getsum(root.left,val) or getsum(root.right,val)\n",
    "                \n",
    "        return getsum(root,0)"
   ]
  }
 ],
 "metadata": {
  "kernelspec": {
   "display_name": "Python 3 (ipykernel)",
   "language": "python",
   "name": "python3"
  },
  "language_info": {
   "codemirror_mode": {
    "name": "ipython",
    "version": 3
   },
   "file_extension": ".py",
   "mimetype": "text/x-python",
   "name": "python",
   "nbconvert_exporter": "python",
   "pygments_lexer": "ipython3",
   "version": "3.9.13"
  }
 },
 "nbformat": 4,
 "nbformat_minor": 5
}

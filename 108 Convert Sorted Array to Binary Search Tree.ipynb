{
 "cells": [
  {
   "cell_type": "markdown",
   "id": "9c8f1885-24cc-4718-b09a-040564d8ae8c",
   "metadata": {},
   "source": [
    "Given an integer array nums where the elements are sorted in ascending order, convert it to a \n",
    "height-balanced binary search tree.\n",
    "A height-balanced binary tree is a binary tree in which the depth of the two subtrees of every node never differs by more than one."
   ]
  },
  {
   "cell_type": "markdown",
   "id": "f1db286c-e31e-4c52-9699-fcf425e26f1d",
   "metadata": {},
   "source": [
    "Example 1:\n",
    "    \n",
    "Input: nums = [-10,-3,0,5,9]\n",
    "Output: [0,-3,9,-10,null,5]\n",
    "Explanation: [0,-10,5,null,-3,null,9] is also accepted:"
   ]
  },
  {
   "cell_type": "markdown",
   "id": "ab07af80-e0e5-4ec5-9c93-4322355d2ff4",
   "metadata": {},
   "source": [
    "Example 2:\n",
    "\n",
    "Input: nums = [1,3]\n",
    "Output: [3,1]\n",
    "Explanation: [1,null,3] and [3,1] are both height-balanced BSTs."
   ]
  },
  {
   "cell_type": "code",
   "execution_count": null,
   "id": "053fe6ad-b476-4bcb-a313-e6440f721801",
   "metadata": {},
   "outputs": [],
   "source": [
    "# Definition for a binary tree node.\n",
    "# class TreeNode(object):\n",
    "#     def __init__(self, val=0, left=None, right=None):\n",
    "#         self.val = val\n",
    "#         self.left = left\n",
    "#         self.right = right\n",
    "class Solution(object):\n",
    "    def sortedArrayToBST(self, nums):\n",
    "        \"\"\"\n",
    "        :type nums: List[int]\n",
    "        :rtype: TreeNode\n",
    "        \"\"\"\n",
    "        if len(nums) == 0:\n",
    "            return None\n",
    "        return self.getNode(nums, 0, len(nums) - 1)\n",
    "    \n",
    "    def getNode(self, nums, left, right):\n",
    "        if left > right:\n",
    "            return None\n",
    "        mid = (left + right) // 2  # 中位數idx\n",
    "        root = TreeNode(nums[mid])                       # 建立節點\n",
    "        root.left = self.getNode(nums, left, mid - 1)    # 左邊的idx都來建立左半部節點\n",
    "        root.right = self.getNode(nums, mid + 1, right)  # 右邊的idx都來建立右半部節點\n",
    "        return root"
   ]
  }
 ],
 "metadata": {
  "kernelspec": {
   "display_name": "Python 3 (ipykernel)",
   "language": "python",
   "name": "python3"
  },
  "language_info": {
   "codemirror_mode": {
    "name": "ipython",
    "version": 3
   },
   "file_extension": ".py",
   "mimetype": "text/x-python",
   "name": "python",
   "nbconvert_exporter": "python",
   "pygments_lexer": "ipython3",
   "version": "3.9.13"
  }
 },
 "nbformat": 4,
 "nbformat_minor": 5
}

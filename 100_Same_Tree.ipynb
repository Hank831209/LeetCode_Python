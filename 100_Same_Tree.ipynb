{
 "cells": [
  {
   "cell_type": "markdown",
   "id": "30001334-7a9e-4745-8b72-73f3e4861bfb",
   "metadata": {},
   "source": [
    "### Description\n",
    "Given the roots of two binary trees p and q, write a function to check if they are the same or not.\n",
    "\n",
    "Two binary trees are considered the same if they are structurally identical, and the nodes have the same value."
   ]
  },
  {
   "cell_type": "markdown",
   "id": "fd0d3cec-f35f-4240-9028-d5833b976adf",
   "metadata": {},
   "source": [
    "Example 1:\n",
    "    \n",
    "Input: p = [1,2,3], q = [1,2,3]\n",
    "Output: true"
   ]
  },
  {
   "cell_type": "markdown",
   "id": "e7827f50-ba29-4f38-9922-5a93a9183881",
   "metadata": {},
   "source": [
    "Example 2:\n",
    "    \n",
    "Input: p = [1,2], q = [1,null,2]\n",
    "Output: false"
   ]
  },
  {
   "cell_type": "markdown",
   "id": "bcda223c-18a6-4929-b4db-c88be31b7175",
   "metadata": {},
   "source": [
    "Example 3:\n",
    "\n",
    "Input: p = [1,2,1], q = [1,1,2]\n",
    "Output: false"
   ]
  },
  {
   "cell_type": "code",
   "execution_count": null,
   "id": "64617e57-02ce-47e0-9458-7ce8081e9bd1",
   "metadata": {},
   "outputs": [],
   "source": [
    "# Definition for a binary tree node.\n",
    "# class TreeNode(object):\n",
    "#     def __init__(self, val=0, left=None, right=None):\n",
    "#         self.val = val\n",
    "#         self.left = left\n",
    "#         self.right = right\n",
    "class Solution(object):\n",
    "    def isSameTree(self, p, q):\n",
    "        \"\"\"\n",
    "        :type p: TreeNode\n",
    "        :type q: TreeNode\n",
    "        :rtype: bool\n",
    "        \"\"\"\n",
    "        # 思路: val and left and right均相等\n",
    "        if p == None and q == None:  # 相同\n",
    "            return True\n",
    "        if p == None or q == None:  # 不同\n",
    "            return False\n",
    "        return p.val==q.val and self.isSameTree(p.left, q.left) and self.isSameTree(p.right, q.right)"
   ]
  },
  {
   "cell_type": "code",
   "execution_count": 1,
   "id": "a00a78a5-caf7-485e-87bf-4746d791786f",
   "metadata": {},
   "outputs": [],
   "source": [
    "# Definition for a binary tree node.\n",
    "# class TreeNode(object):\n",
    "#     def __init__(self, val=0, left=None, right=None):\n",
    "#         self.val = val\n",
    "#         self.left = left\n",
    "#         self.right = right\n",
    "class Solution(object):\n",
    "    def traversal(self, root, root_list):\n",
    "        if root == None:\n",
    "            root_list.append('None')\n",
    "            return root_list\n",
    "        root_list.append(root.val)\n",
    "        root_list = self.traversal(root.left, root_list)\n",
    "        root_list = self.traversal(root.right, root_list)\n",
    "        return root_list\n",
    "        \n",
    "        \n",
    "        \n",
    "    def isSameTree(self, p, q):\n",
    "        \"\"\"\n",
    "        :type p: TreeNode\n",
    "        :type q: TreeNode\n",
    "        :rtype: bool\n",
    "        \"\"\"\n",
    "        p_list = list()\n",
    "        q_list = list()\n",
    "        pl = self.traversal(p, p_list)\n",
    "        ql = self.traversal(q, q_list)\n",
    "        if pl == ql:\n",
    "            return True\n",
    "        else: \n",
    "            return False"
   ]
  }
 ],
 "metadata": {
  "kernelspec": {
   "display_name": "Python 3 (ipykernel)",
   "language": "python",
   "name": "python3"
  },
  "language_info": {
   "codemirror_mode": {
    "name": "ipython",
    "version": 3
   },
   "file_extension": ".py",
   "mimetype": "text/x-python",
   "name": "python",
   "nbconvert_exporter": "python",
   "pygments_lexer": "ipython3",
   "version": "3.9.13"
  }
 },
 "nbformat": 4,
 "nbformat_minor": 5
}

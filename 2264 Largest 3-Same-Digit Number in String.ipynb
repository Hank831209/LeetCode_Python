{
 "cells": [
  {
   "cell_type": "markdown",
   "id": "85c8f95b-ceab-4e88-aee8-5681181d3740",
   "metadata": {},
   "source": [
    "You are given a string num representing a large integer. An integer is good if it meets the following conditions:\n",
    "\n",
    "It is a substring of num with length 3.\n",
    "It consists of only one unique digit.\n",
    "Return the maximum good integer as a string or an empty string \"\" if no such integer exists.\n",
    "\n",
    "Note:\n",
    "\n",
    "A substring is a contiguous sequence of characters within a string.\n",
    "There may be leading zeroes in num or a good integer."
   ]
  },
  {
   "cell_type": "markdown",
   "id": "6faa123c-147c-43c7-a3de-85bee8160fe4",
   "metadata": {},
   "source": [
    "Example 1:\n",
    "\n",
    "Input: num = \"6777133339\"\n",
    "Output: \"777\"\n",
    "Explanation: There are two distinct good integers: \"777\" and \"333\".\n",
    "\"777\" is the largest, so we return \"777\"."
   ]
  },
  {
   "cell_type": "markdown",
   "id": "804d560b-153a-4499-8025-2d4380bf4a8b",
   "metadata": {},
   "source": [
    "Example 2:\n",
    "\n",
    "Input: num = \"2300019\"\n",
    "Output: \"000\"\n",
    "Explanation: \"000\" is the only good integer."
   ]
  },
  {
   "cell_type": "markdown",
   "id": "29ec47a0-5606-4d84-8e62-443701cbcbb6",
   "metadata": {},
   "source": [
    "Example 3:\n",
    "\n",
    "Input: num = \"42352338\"\n",
    "Output: \"\"\n",
    "Explanation: No substring of length 3 consists of only one unique digit. Therefore, there are no good integers."
   ]
  },
  {
   "cell_type": "code",
   "execution_count": 37,
   "id": "f3c8aa51-b478-44f1-b37c-3d2e970015ae",
   "metadata": {},
   "outputs": [],
   "source": [
    "class Solution(object):\n",
    "    def largestGoodInteger(self, num):\n",
    "        \"\"\"\n",
    "        :type num: str\n",
    "        :rtype: str\n",
    "        \"\"\"\n",
    "        ans = \"\"\n",
    "        for i in range(2, len(num)):\n",
    "            if num[i] == num[i-1] and num[i-1] == num[i-2]:\n",
    "                ans = max(ans, num[i])  # 字串也可以比大小\n",
    "        return ans*3"
   ]
  },
  {
   "cell_type": "code",
   "execution_count": 35,
   "id": "d52a192a-49e6-49d1-9ec6-7c83894404d2",
   "metadata": {},
   "outputs": [
    {
     "data": {
      "text/plain": [
       "'777'"
      ]
     },
     "execution_count": 35,
     "metadata": {},
     "output_type": "execute_result"
    }
   ],
   "source": [
    "a = Solution()\n",
    "num = \"6777133339\"\n",
    "a.largestGoodInteger(num)"
   ]
  },
  {
   "cell_type": "code",
   "execution_count": 39,
   "id": "ac0629e3-d3f6-4923-aa02-0f25403f83b9",
   "metadata": {},
   "outputs": [
    {
     "data": {
      "text/plain": [
       "0"
      ]
     },
     "execution_count": 39,
     "metadata": {},
     "output_type": "execute_result"
    }
   ],
   "source": [
    "int(\"0\")"
   ]
  },
  {
   "cell_type": "code",
   "execution_count": 33,
   "id": "fcc4f354-8501-4643-836b-4eccee57f019",
   "metadata": {},
   "outputs": [],
   "source": [
    "class Solution(object):\n",
    "    def largestGoodInteger(self, num):\n",
    "        \"\"\"\n",
    "        :type num: str\n",
    "        :rtype: str\n",
    "        \"\"\"\n",
    "        ans = set()\n",
    "        temp = []\n",
    "        for idx, i in enumerate(num):\n",
    "            if idx == 0:\n",
    "                temp.append(i)  # 儲存字串\n",
    "                continue\n",
    "            temp.append(i)  # 繼續存直到滿足三個\n",
    "            if idx >= 2:\n",
    "                # 比對列表數字\n",
    "                if temp[-1] == temp[-2] and temp[-2] == temp[-3]:\n",
    "                    # 連三個相同\n",
    "                    ans.add(temp[-1]*3)\n",
    "        if len(ans) == 0:\n",
    "            return \"\"\n",
    "        else:\n",
    "            for i in \"9876543210\":\n",
    "                if i*3 in ans:\n",
    "                    return i*3"
   ]
  },
  {
   "cell_type": "code",
   "execution_count": 15,
   "id": "f3aa8a99-1ff7-4af5-92da-4c25ff886cb7",
   "metadata": {},
   "outputs": [
    {
     "data": {
      "text/plain": [
       "'777'"
      ]
     },
     "execution_count": 15,
     "metadata": {},
     "output_type": "execute_result"
    }
   ],
   "source": [
    "a = Solution()\n",
    "num = \"6777133339\"\n",
    "a.largestGoodInteger(num)"
   ]
  },
  {
   "cell_type": "code",
   "execution_count": 20,
   "id": "75c2b7bf-dd76-4d44-bbb0-272f0245e7ed",
   "metadata": {},
   "outputs": [
    {
     "data": {
      "text/plain": [
       "'12'"
      ]
     },
     "execution_count": 20,
     "metadata": {},
     "output_type": "execute_result"
    }
   ],
   "source": [
    "max(\"12\", \"10\")"
   ]
  },
  {
   "cell_type": "code",
   "execution_count": null,
   "id": "a66b57de-0ced-46c1-b16c-49a0dedaaef4",
   "metadata": {},
   "outputs": [],
   "source": []
  }
 ],
 "metadata": {
  "kernelspec": {
   "display_name": "Python 3 (ipykernel)",
   "language": "python",
   "name": "python3"
  },
  "language_info": {
   "codemirror_mode": {
    "name": "ipython",
    "version": 3
   },
   "file_extension": ".py",
   "mimetype": "text/x-python",
   "name": "python",
   "nbconvert_exporter": "python",
   "pygments_lexer": "ipython3",
   "version": "3.9.13"
  }
 },
 "nbformat": 4,
 "nbformat_minor": 5
}

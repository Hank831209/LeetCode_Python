{
 "cells": [
  {
   "cell_type": "markdown",
   "id": "e9367b81-fec1-4f8d-8b45-0cda4849158f",
   "metadata": {},
   "source": [
    "### Description\n",
    "Given the root of a binary tree, check whether it is a mirror of itself (i.e., symmetric around its center)."
   ]
  },
  {
   "cell_type": "code",
   "execution_count": 2,
   "id": "9743dd56-98ae-4f27-9129-119461c0c8d2",
   "metadata": {},
   "outputs": [],
   "source": [
    "# Definition for a binary tree node.\n",
    "# class TreeNode(object):\n",
    "#     def __init__(self, val=0, left=None, right=None):\n",
    "#         self.val = val\n",
    "#         self.left = left\n",
    "#         self.right = right\n",
    "class Solution(object):\n",
    "    def isSym(self, l, r):\n",
    "        if not l and not r:\n",
    "            return True\n",
    "        if not l or not r:\n",
    "            return False\n",
    "        # 根結點數值一樣, 左邊的左邊要跟右邊的右邊一樣, 左邊的右邊要跟右邊的左邊一樣\n",
    "        return l.val == r.val and self.isSym(l.left, r.right) and self.isSym(l.right, r.left)\n",
    "        \n",
    "        \n",
    "    def isSymmetric(self, root):\n",
    "        \"\"\"\n",
    "        :type root: TreeNode\n",
    "        :rtype: bool\n",
    "        \"\"\"\n",
    "        if not root:\n",
    "            return True\n",
    "        return self.isSym(root.left, root.right)"
   ]
  },
  {
   "cell_type": "code",
   "execution_count": null,
   "id": "5ae0d5c7-cfb8-47c0-aec6-5d9146f8cf69",
   "metadata": {},
   "outputs": [],
   "source": []
  }
 ],
 "metadata": {
  "kernelspec": {
   "display_name": "Python 3 (ipykernel)",
   "language": "python",
   "name": "python3"
  },
  "language_info": {
   "codemirror_mode": {
    "name": "ipython",
    "version": 3
   },
   "file_extension": ".py",
   "mimetype": "text/x-python",
   "name": "python",
   "nbconvert_exporter": "python",
   "pygments_lexer": "ipython3",
   "version": "3.9.12"
  }
 },
 "nbformat": 4,
 "nbformat_minor": 5
}

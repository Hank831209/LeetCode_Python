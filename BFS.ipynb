{
 "cells": [
  {
   "cell_type": "code",
   "execution_count": 3,
   "id": "a7e14ded-d744-4778-bcd8-2025b13f599b",
   "metadata": {},
   "outputs": [],
   "source": [
    "graph = {'A': ['B', 'C'],\n",
    "         'B': ['A', 'C', 'D'],\n",
    "         'C': ['A', 'B', 'D', 'E'],\n",
    "         'D': ['B', 'C', 'E', 'F'],\n",
    "         'E': ['C', 'D'],\n",
    "         'F': ['D']\n",
    "        }"
   ]
  },
  {
   "cell_type": "code",
   "execution_count": 7,
   "id": "acba14c9-e91c-49a1-926e-2f831cebeb17",
   "metadata": {},
   "outputs": [],
   "source": [
    "def BFS(graph, s):\n",
    "    queue = []\n",
    "    queue.append(s)\n",
    "    seen = set()\n",
    "    while len(queue) != 0:\n",
    "        v = queue.pop(0)\n",
    "        seen.add(v)\n",
    "        for i in graph[v]:\n",
    "            if i not in seen:\n",
    "                seen.add(i)\n",
    "                queue.append(i)\n",
    "                print(i)"
   ]
  },
  {
   "cell_type": "code",
   "execution_count": 8,
   "id": "acc9c6a9-51e2-48ad-a842-a182f4f21caf",
   "metadata": {},
   "outputs": [
    {
     "name": "stdout",
     "output_type": "stream",
     "text": [
      "B\n",
      "C\n",
      "D\n",
      "E\n",
      "F\n"
     ]
    }
   ],
   "source": [
    "BFS(graph, \"A\")"
   ]
  },
  {
   "cell_type": "code",
   "execution_count": 3,
   "id": "cd2c341d-55fe-49b7-b1e7-06e9521d70e5",
   "metadata": {},
   "outputs": [],
   "source": [
    "a = 3\n",
    "b = 5"
   ]
  },
  {
   "cell_type": "code",
   "execution_count": 4,
   "id": "78060a3e-c243-4be7-9557-19f4fdfd02aa",
   "metadata": {},
   "outputs": [],
   "source": [
    "a = a ^ b\n",
    "b = a ^ b\n",
    "a = a ^ b"
   ]
  }
 ],
 "metadata": {
  "kernelspec": {
   "display_name": "Python 3 (ipykernel)",
   "language": "python",
   "name": "python3"
  },
  "language_info": {
   "codemirror_mode": {
    "name": "ipython",
    "version": 3
   },
   "file_extension": ".py",
   "mimetype": "text/x-python",
   "name": "python",
   "nbconvert_exporter": "python",
   "pygments_lexer": "ipython3",
   "version": "3.9.13"
  }
 },
 "nbformat": 4,
 "nbformat_minor": 5
}
